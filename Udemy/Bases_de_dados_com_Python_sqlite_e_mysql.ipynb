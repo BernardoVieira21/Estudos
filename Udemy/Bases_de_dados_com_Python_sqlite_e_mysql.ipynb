{
 "cells": [
  {
   "cell_type": "markdown",
   "metadata": {},
   "source": [
    "#### Criando meu primeiro arquivo do SQLite (db.sqlite3)"
   ]
  },
  {
   "cell_type": "code",
   "execution_count": null,
   "metadata": {},
   "outputs": [],
   "source": [
    "import sqlite3\n",
    "\n",
    "DB_NAME = \"db.sqlite3\"\n",
    "\n",
    "connection = sqlite3.connect(DB_NAME)\n",
    "cursor = connection.cursor()\n",
    "\n",
    "# SQL\n",
    "\n",
    "cursor.close()\n",
    "connection.close()"
   ]
  },
  {
   "cell_type": "markdown",
   "metadata": {},
   "source": [
    "#### Criando minha primeira tabela no SQLite3 (DBeaver opcional)"
   ]
  },
  {
   "cell_type": "code",
   "execution_count": null,
   "metadata": {},
   "outputs": [],
   "source": [
    "TABLE_NAME = \"customers\"\n",
    "\n",
    "cursor.execute(\n",
    "    f\"CREATE TABLE IF NOT EXISTS {TABLE_NAME}\"\n",
    "    \"(\"\n",
    "    \"id INTEGER PRIMARY KEY AUTOINCREMENT,\"\n",
    "    \"name TEXT,\"\n",
    "    \"weight REAL\"\n",
    "    \")\"\n",
    ")\n",
    "\n",
    "connection.commit()\n",
    "\n",
    "cursor.close()\n",
    "connection.close()"
   ]
  },
  {
   "cell_type": "markdown",
   "metadata": {},
   "source": [
    "#### Inserindo valores (INSERT INTO), DELETE sem WHERE e zerando a sqlite_sequence"
   ]
  },
  {
   "cell_type": "code",
   "execution_count": null,
   "metadata": {},
   "outputs": [],
   "source": [
    "import sqlite3\n",
    "\n",
    "DB_NAME = \"db.sqlite3\"\n",
    "TABLE_NAME = \"customers\"\n",
    "\n",
    "connection = sqlite3.connect(DB_NAME)\n",
    "cursor = connection.cursor()\n",
    "\n",
    "# Cria a tabela\n",
    "cursor.execute(\n",
    "    f\"CREATE TABLE IF NOT EXISTS {TABLE_NAME}\"\n",
    "    \"(\"\n",
    "    \"id INTEGER PRIMARY KEY AUTOINCREMENT,\"\n",
    "    \"name TEXT,\"\n",
    "    \"weight REAL\"\n",
    "    \")\"\n",
    ")\n",
    "connection.commit()\n",
    "\n",
    "# Registrar valores nas colunas da tabela\n",
    "cursor.execute(\n",
    "    f\"INSERT INTO {TABLE_NAME} (id, name, weight) \"\n",
    "    \"VALUES (NULL, 'Luiz Otávio', 9.9)\"\n",
    ")\n",
    "connection.commit()\n",
    "\n",
    "\n",
    "cursor.close()\n",
    "connection.close()"
   ]
  },
  {
   "cell_type": "code",
   "execution_count": null,
   "metadata": {},
   "outputs": [],
   "source": [
    "import sqlite3\n",
    "\n",
    "DB_NAME = \"db.sqlite3\"\n",
    "TABLE_NAME = \"customers\"\n",
    "\n",
    "connection = sqlite3.connect(DB_NAME)\n",
    "cursor = connection.cursor()\n",
    "\n",
    "# CUIDADO: fazendo delete sem where\n",
    "cursor.execute(\n",
    "    f\"DELETE FROM {TABLE_NAME}\"\n",
    ")\n",
    "\n",
    "cursor.execute(\n",
    "    f\"DELETE FROM sqlite_sequence WHERE name='{TABLE_NAME}'\"\n",
    ")\n",
    "\n",
    "connection.commit()\n",
    "\n",
    "# Cria a tabela\n",
    "cursor.execute(\n",
    "    f\"CREATE TABLE IF NOT EXISTS {TABLE_NAME}\"\n",
    "    \"(\"\n",
    "    \"id INTEGER PRIMARY KEY AUTOINCREMENT,\"\n",
    "    \"name TEXT,\"\n",
    "    \"weight REAL\"\n",
    "    \")\"\n",
    ")\n",
    "connection.commit()\n",
    "\n",
    "# Registrar valores nas colunas da tabela\n",
    "# CUIDADO: sql injection\n",
    "cursor.execute(\n",
    "    f\"INSERT INTO {TABLE_NAME} (id, name, weight) \"\n",
    "    \"VALUES (NULL, 'Luiz Otávio', 9.9)\"\n",
    ")\n",
    "connection.commit()\n",
    "\n",
    "\n",
    "cursor.close()\n",
    "connection.close()"
   ]
  },
  {
   "cell_type": "markdown",
   "metadata": {},
   "source": [
    "#### Usando placeholders para maior segurança (bindings) no SQLite"
   ]
  },
  {
   "cell_type": "code",
   "execution_count": null,
   "metadata": {},
   "outputs": [],
   "source": [
    "import sqlite3\n",
    "\n",
    "DB_NAME = \"db.sqlite3\"\n",
    "TABLE_NAME = \"customers\"\n",
    "\n",
    "connection = sqlite3.connect(DB_NAME)\n",
    "cursor = connection.cursor()\n",
    "\n",
    "# CUIDADO: fazendo delete sem where\n",
    "cursor.execute(\n",
    "    f\"DELETE FROM {TABLE_NAME}\"\n",
    ")\n",
    "\n",
    "cursor.execute(\n",
    "    f\"DELETE FROM sqlite_sequence WHERE name='{TABLE_NAME}'\"\n",
    ")\n",
    "\n",
    "connection.commit()\n",
    "\n",
    "# Cria a tabela\n",
    "cursor.execute(\n",
    "    f\"CREATE TABLE IF NOT EXISTS {TABLE_NAME}\"\n",
    "    \"(\"\n",
    "    \"id INTEGER PRIMARY KEY AUTOINCREMENT,\"\n",
    "    \"name TEXT,\"\n",
    "    \"weight REAL\"\n",
    "    \")\"\n",
    ")\n",
    "connection.commit()\n",
    "\n",
    "# Registrar valores nas colunas da tabela\n",
    "sql = (\n",
    "    f\"INSERT INTO {TABLE_NAME} (name, weight) \"\n",
    "    \"VALUES (?, ?)\"\n",
    ")\n",
    "cursor.execute(sql, [\"Joana\", 4])\n",
    "connection.commit()\n",
    "\n",
    "\n",
    "cursor.close()\n",
    "connection.close()"
   ]
  },
  {
   "cell_type": "markdown",
   "metadata": {},
   "source": [
    "#### executemany - Inserindo vários valores com placeholders no SQLite"
   ]
  },
  {
   "cell_type": "code",
   "execution_count": null,
   "metadata": {},
   "outputs": [],
   "source": [
    "# cursor.execute(sql, [\"Joana\", 4])\n",
    "# cursor.executemany(sql, [[\"Joana\", 4], [\"Luiz\", 5]])\n",
    "cursor.executemany(\n",
    "    sql,\n",
    "    (\n",
    "        (\"Joana\", 4), (\"Luiz\", 5)\n",
    "    )\n",
    ")\n",
    "connection.commit()"
   ]
  },
  {
   "cell_type": "markdown",
   "metadata": {},
   "source": [
    "#### execute e executemany com dicionários e lista de dicionários no SQLite"
   ]
  },
  {
   "cell_type": "code",
   "execution_count": null,
   "metadata": {},
   "outputs": [],
   "source": [
    "# CUIDADO: fazendo delete sem where\n",
    "cursor.execute(\n",
    "    f\"DELETE FROM {TABLE_NAME}\"\n",
    ")\n",
    "\n",
    "cursor.execute(\n",
    "    f\"DELETE FROM sqlite_sequence WHERE name='{TABLE_NAME}'\"\n",
    ")\n",
    "\n",
    "connection.commit()\n",
    "\n",
    "# Cria a tabela\n",
    "cursor.execute(\n",
    "    f\"CREATE TABLE IF NOT EXISTS {TABLE_NAME}\"\n",
    "    \"(\"\n",
    "    \"id INTEGER PRIMARY KEY AUTOINCREMENT,\"\n",
    "    \"name TEXT,\"\n",
    "    \"weight REAL\"\n",
    "    \")\"\n",
    ")\n",
    "connection.commit()\n",
    "\n",
    "# Registrar valores nas colunas da tabela\n",
    "sql = (\n",
    "    f\"INSERT INTO {TABLE_NAME} (name, weight) \"\n",
    "    \"VALUES (:nome, :peso)\"\n",
    ")\n",
    "# cursor.execute(sql, {\"nome\": \"Sem Nome\", \"peso\": 3})\n",
    "cursor.executemany(sql, (\n",
    "    {\"nome\": \"Sem Nome1\", \"peso\": 2},\n",
    "    {\"nome\": \"Sem Nome2\", \"peso\": 5},\n",
    "    {\"nome\": \"Sem Nome3\", \"peso\": 6},\n",
    "    {\"nome\": \"Sem Nome4\", \"peso\": 7},\n",
    "    {\"nome\": \"Sem Nome5\", \"peso\": 39},\n",
    "    ))\n",
    "connection.commit()\n",
    "\n",
    "cursor.close()\n",
    "connection.close()"
   ]
  },
  {
   "cell_type": "markdown",
   "metadata": {},
   "source": [
    "#### SELECT do SQL com fetch no SQLite3 do Python"
   ]
  },
  {
   "cell_type": "code",
   "execution_count": null,
   "metadata": {},
   "outputs": [],
   "source": [
    "cursor.execute(f\"SELECT * FROM {TABLE_NAME}\")\n",
    "\n",
    "for row in cursor.fetchall():\n",
    "    _id, name, weight = row\n",
    "    print(_id, name, weight)\n",
    "\n",
    "print()\n",
    "\n",
    "cursor.execute(\n",
    "    f\"SELECT * FROM {TABLE_NAME} \"\n",
    "    \"WHERE id = '3'\"\n",
    ")\n",
    "\n",
    "row = cursor.fetchone()\n",
    "_id, name, weight = row\n",
    "print(_id, name, weight)"
   ]
  },
  {
   "cell_type": "markdown",
   "metadata": {},
   "source": [
    "#### O que é CRUD + DELETE com e sem WHERE no SQLite3 do Python"
   ]
  },
  {
   "cell_type": "code",
   "execution_count": null,
   "metadata": {},
   "outputs": [],
   "source": [
    "# CRUD - Create  Read  Update Delete\n",
    "# SQL -  INSERT SELECT UPDATE DELETE\n",
    "\n",
    "# CUIDADO: fazendo delete sem where\n",
    "cursor.execute(\n",
    "    f\"DELETE FROM {TABLE_NAME}\"\n",
    ")\n",
    "\n",
    "# DELETE mais cuidadoso\n",
    "cursor.execute(\n",
    "    f\"DELETE FROM sqlite_sequence WHERE name='{TABLE_NAME}'\"\n",
    ")\n",
    "\n",
    "connection.commit()"
   ]
  },
  {
   "cell_type": "markdown",
   "metadata": {},
   "source": [
    "#### DELETE no SQLite do Python"
   ]
  },
  {
   "cell_type": "code",
   "execution_count": null,
   "metadata": {},
   "outputs": [],
   "source": [
    "cursor.execute(\n",
    "    f\"DELETE FROM {TABLE_NAME} \"\n",
    "    \"WHERE id = '3'\"\n",
    ")"
   ]
  },
  {
   "cell_type": "markdown",
   "metadata": {},
   "source": [
    "#### UPDATE no SQLite com Python"
   ]
  },
  {
   "cell_type": "code",
   "execution_count": null,
   "metadata": {},
   "outputs": [],
   "source": [
    "cursor.execute(\n",
    "    f\"UPDATE {TABLE_NAME} \"\n",
    "    \"SET name='QUALQUER', weight=67.89 \"\n",
    "    \"WHERE id = '2'\"\n",
    ")"
   ]
  },
  {
   "cell_type": "markdown",
   "metadata": {},
   "source": [
    "#### PyMySQL - um cliente MySQL feito em Python Puro"
   ]
  },
  {
   "cell_type": "code",
   "execution_count": null,
   "metadata": {},
   "outputs": [],
   "source": [
    "# Doc: https://pymysql.readthedocs.io/en/latest/\n",
    "# Pypy: https://pypi.org/project/pymysql/\n",
    "# Doc: https://github.com/PyMySQL/PyMySQL"
   ]
  },
  {
   "cell_type": "markdown",
   "metadata": {},
   "source": [
    "#### Conectando no seu servidor de base de dados MySQL com PyMySQL"
   ]
  },
  {
   "cell_type": "code",
   "execution_count": null,
   "metadata": {},
   "outputs": [],
   "source": [
    "import pymysql\n",
    "\n",
    "connection = pymysql.connect(\n",
    "    host=\"localhost\",\n",
    "    user=\"usuario\",\n",
    "    password=\"senha\",\n",
    "    database=\"base_de_dados\",\n",
    ")\n",
    "\n",
    "with connection:\n",
    "    with connection.cursor() as cursor:\n",
    "        # SQL\n",
    "        print(cursor)"
   ]
  },
  {
   "cell_type": "markdown",
   "metadata": {},
   "source": [
    "#### Usando python-dotenv e .env com pymysql.connect"
   ]
  },
  {
   "cell_type": "code",
   "execution_count": null,
   "metadata": {},
   "outputs": [],
   "source": [
    "import os\n",
    "import dotenv\n",
    "\n",
    "dotenv.load_dotenv()\n",
    "\n",
    "connection = pymysql.connect(\n",
    "    host=os.environ[\"MYSQL_HOST\"],\n",
    "    user=os.environ[\"MYSQL_USER\"],\n",
    "    password=os.environ[\"MYSQL_PASSWORD\"],\n",
    "    database=os.environ[\"MYSQL_DATABASE\"],\n",
    ")"
   ]
  },
  {
   "cell_type": "markdown",
   "metadata": {},
   "source": [
    "#### CREATE TABLE para criar tabelas com PRIMARY KEY no PyMySQL"
   ]
  },
  {
   "cell_type": "code",
   "execution_count": null,
   "metadata": {},
   "outputs": [],
   "source": [
    "TABLE_NAME = \"customers\"\n",
    "\n",
    "with connection:\n",
    "    with connection.cursor() as cursor:\n",
    "        cursor.execute(\n",
    "            f'CREATE TABLE IF NOT EXISTS {TABLE_NAME} ('\n",
    "            'id INT NOT NULL AUTO_INCREMENT, '\n",
    "            'nome VARCHAR(50) NOT NULL, '\n",
    "            'idade INT NOT NULL, '\n",
    "            'PRIMARY KEY (id)'\n",
    "            ') '\n",
    "        )\n",
    "        print(cursor)"
   ]
  },
  {
   "cell_type": "markdown",
   "metadata": {},
   "source": [
    "#### TRUNCATE e INSERT p/ limpar e criar valores na tabela com um ou mais cursores"
   ]
  },
  {
   "cell_type": "code",
   "execution_count": null,
   "metadata": {},
   "outputs": [],
   "source": [
    "TABLE_NAME = \"customers\"\n",
    "\n",
    "with connection:\n",
    "    with connection.cursor() as cursor:\n",
    "        cursor.execute(\n",
    "            f'CREATE TABLE IF NOT EXISTS {TABLE_NAME} ('\n",
    "            'id INT NOT NULL AUTO_INCREMENT, '\n",
    "            'nome VARCHAR(50) NOT NULL, '\n",
    "            'idade INT NOT NULL, '\n",
    "            'PRIMARY KEY (id)'\n",
    "            ') '\n",
    "        )\n",
    "        # CUIDADO: ISSO LIMPA A TABELA\n",
    "        cursor.execute(f'TRUNCATE TABLE {TABLE_NAME}')\n",
    "    connection.commit()\n",
    "    \n",
    "    with connection.cursor() as cursor:\n",
    "        result = cursor.execute(\n",
    "            f'INSERT INTO {TABLE_NAME} '\n",
    "            '(nome, idade) VALUES (\"Luiz\", 25) '\n",
    "        )\n",
    "        print(result)\n",
    "    connection.commit()\n",
    "\n"
   ]
  },
  {
   "cell_type": "markdown",
   "metadata": {},
   "source": [
    "#### Evite SQL Injection ao usar placeholders para enviar valores para consulta SQL"
   ]
  },
  {
   "cell_type": "code",
   "execution_count": null,
   "metadata": {},
   "outputs": [],
   "source": [
    "with connection:\n",
    "    with connection.cursor() as cursor:\n",
    "        sql = (\n",
    "            f'INSERT INTO {TABLE_NAME} '\n",
    "            '(nome, idade) VALUES (%s, %s) '\n",
    "        )\n",
    "        data = ('Luiz', 18)\n",
    "        result = cursor.execute(sql, data)\n",
    "        print(sql, data)\n",
    "        print(result)\n",
    "    connection.commit()"
   ]
  },
  {
   "cell_type": "markdown",
   "metadata": {},
   "source": [
    "#### Inserindo valores usando dicionários ao invés de iteráveis"
   ]
  },
  {
   "cell_type": "code",
   "execution_count": null,
   "metadata": {},
   "outputs": [],
   "source": [
    "with connection:\n",
    "    with connection.cursor() as cursor:\n",
    "        sql = (\n",
    "            f'INSERT INTO {TABLE_NAME} '\n",
    "            '(nome, idade) VALUES (%(nome)s, %(idade)s) '\n",
    "        )\n",
    "        data = {\n",
    "            \"nome\": \"Le\",\n",
    "            \"idade\": 27\n",
    "        }\n",
    "        result = cursor.execute(sql, data)\n",
    "        print(sql, data)\n",
    "        print(result)\n",
    "    connection.commit()"
   ]
  },
  {
   "cell_type": "markdown",
   "metadata": {},
   "source": [
    "#### Inserindo vários valores com uma consulta só usando iteráveis ou dicionários"
   ]
  },
  {
   "cell_type": "code",
   "execution_count": null,
   "metadata": {},
   "outputs": [],
   "source": [
    "with connection:\n",
    "    with connection.cursor() as cursor:\n",
    "        sql = (\n",
    "            f'INSERT INTO {TABLE_NAME} '\n",
    "            '(nome, idade) VALUES (%(nome)s, %(idade)s) '\n",
    "        )\n",
    "        data = (\n",
    "            {\"nome\": \"Sah\", \"idade\": 33, },\n",
    "            {\"nome\": \"Ju\", \"idade\": 74, },\n",
    "            {\"nome\": \"Rose\", \"idade\": 53, },\n",
    "        )\n",
    "        result = cursor.executemany(sql, data)\n",
    "        print(sql, data)\n",
    "        print(result)\n",
    "    connection.commit()"
   ]
  },
  {
   "cell_type": "code",
   "execution_count": null,
   "metadata": {},
   "outputs": [],
   "source": [
    "with connection:\n",
    "    with connection.cursor() as cursor:\n",
    "        sql = (\n",
    "            f'INSERT INTO {TABLE_NAME} '\n",
    "            '(nome, idade) VALUES (%s, %s) '\n",
    "        )\n",
    "        data = (\n",
    "            (\"Siri\", 22),\n",
    "            (\"Helena\", 15),\n",
    "        )\n",
    "        result = cursor.executemany(sql, data)\n",
    "        print(sql, data)\n",
    "        print(result)\n",
    "    connection.commit()"
   ]
  },
  {
   "cell_type": "markdown",
   "metadata": {},
   "source": [
    "#### Lendo valores com SELECT, cursor.execute e cursor.fetchall no PyMySQL"
   ]
  },
  {
   "cell_type": "code",
   "execution_count": null,
   "metadata": {},
   "outputs": [],
   "source": [
    "with connection:\n",
    "    with connection.cursor() as cursor:\n",
    "        sql = (\n",
    "            f'SELECT * FROM {TABLE_NAME} '\n",
    "        )\n",
    "        cursor.execute(sql)\n",
    "\n",
    "        data = cursor.fetchall()\n",
    "\n",
    "        for row in data:\n",
    "            print(row)"
   ]
  },
  {
   "cell_type": "markdown",
   "metadata": {},
   "source": [
    "#### Lendo valores com WHERE (mais uma vez, explico cuidados com SQL Injection)"
   ]
  },
  {
   "cell_type": "code",
   "execution_count": null,
   "metadata": {},
   "outputs": [],
   "source": [
    "with connection:\n",
    "    with connection.cursor() as cursor:\n",
    "        sql = (\n",
    "            f'SELECT * FROM {TABLE_NAME} '\n",
    "            'WHERE id = 8 '\n",
    "        )\n",
    "        cursor.execute(sql)\n",
    "\n",
    "        data = cursor.fetchall()\n",
    "\n",
    "        for row in data:\n",
    "            print(row)"
   ]
  },
  {
   "cell_type": "markdown",
   "metadata": {},
   "source": [
    "#### Apagando valores com DELETE, WHERE e placeholders o PyMySQL"
   ]
  },
  {
   "cell_type": "code",
   "execution_count": null,
   "metadata": {},
   "outputs": [],
   "source": [
    "with connection:\n",
    "    with connection.cursor() as cursor:\n",
    "        sql = (\n",
    "            f'DELETE FROM {TABLE_NAME} '\n",
    "        )\n",
    "        cursor.execute(sql)\n",
    "        connection.commit()\n",
    "\n",
    "        data = cursor.fetchall()\n",
    "\n",
    "        for row in data:\n",
    "            print(row)"
   ]
  },
  {
   "cell_type": "code",
   "execution_count": null,
   "metadata": {},
   "outputs": [],
   "source": [
    "with connection:\n",
    "    with connection.cursor() as cursor:\n",
    "        sql = (\n",
    "            f'DELETE FROM {TABLE_NAME} '\n",
    "            'WHERE id = 4'\n",
    "        )\n",
    "        cursor.execute(sql)\n",
    "        connection.commit()\n",
    "\n",
    "        data = cursor.fetchall()\n",
    "\n",
    "        for row in data:\n",
    "            print(row)"
   ]
  },
  {
   "cell_type": "markdown",
   "metadata": {},
   "source": [
    "#### Editando com UPDATE, WHERE e placeholders no PyMySQL"
   ]
  },
  {
   "cell_type": "code",
   "execution_count": null,
   "metadata": {},
   "outputs": [],
   "source": [
    "with connection:\n",
    "    with connection.cursor() as cursor:\n",
    "        sql = (\n",
    "            f'UPDATE {TABLE_NAME} '\n",
    "            'SET nome=%s, idade=%s '\n",
    "            'WHERE id = %s'\n",
    "        )\n",
    "        cursor.execute(sql, (\"Eleonor\", 102, 4))\n",
    "        connection.commit()\n",
    "\n",
    "        data = cursor.fetchall()\n",
    "\n",
    "        for row in data:\n",
    "            print(row)"
   ]
  },
  {
   "cell_type": "markdown",
   "metadata": {},
   "source": [
    "#### Trocando o cursor para retornar dicionários - pymysql.cursors.DictCursor"
   ]
  },
  {
   "cell_type": "code",
   "execution_count": null,
   "metadata": {},
   "outputs": [],
   "source": [
    "import os\n",
    "import dotenv\n",
    "import pymysql\n",
    "import pymysql.cursors\n",
    "\n",
    "TABLE_NAME = \"customers\"\n",
    "\n",
    "dotenv.load_dotenv()\n",
    "\n",
    "connection = pymysql.connect(\n",
    "    host=os.environ[\"MYSQL_HOST\"],\n",
    "    user=os.environ[\"MYSQL_USER\"],\n",
    "    password=os.environ[\"MYSQL_PASSWORD\"],\n",
    "    database=os.environ[\"MYSQL_DATABASE\"],\n",
    "    cursorclass=pymysql.cursors.DictCursor,\n",
    ")\n",
    "\n",
    "with connection:\n",
    "    with connection.cursor() as cursor:\n",
    "        sql = (\n",
    "            f'UPDATE {TABLE_NAME} '\n",
    "            'SET nome=%s, idade=%s '\n",
    "            'WHERE id = %s'\n",
    "        )\n",
    "        cursor.execute(sql, (\"Eleonor\", 102, 4))\n",
    "        cursor.execute(f'SELECT * FROM {TABLE_NAME} ')\n",
    "\n",
    "        data = cursor.fetchall()\n",
    "\n",
    "        for row in data:\n",
    "            print(row)"
   ]
  },
  {
   "cell_type": "markdown",
   "metadata": {},
   "source": [
    "#### SSCursor, SSDictCursor e scroll para conjuntos de dados muito grandes no PyMySQL"
   ]
  },
  {
   "cell_type": "code",
   "execution_count": null,
   "metadata": {},
   "outputs": [],
   "source": [
    "import os\n",
    "import dotenv\n",
    "import pymysql\n",
    "import pymysql.cursors\n",
    "\n",
    "TABLE_NAME = \"customers\"\n",
    "\n",
    "dotenv.load_dotenv()\n",
    "\n",
    "connection = pymysql.connect(\n",
    "    host=os.environ[\"MYSQL_HOST\"],\n",
    "    user=os.environ[\"MYSQL_USER\"],\n",
    "    password=os.environ[\"MYSQL_PASSWORD\"],\n",
    "    database=os.environ[\"MYSQL_DATABASE\"],\n",
    "    cursorclass=pymysql.cursors.DictCursor,\n",
    ")\n",
    "\n",
    "with connection:\n",
    "    with connection.cursor() as cursor:\n",
    "        sql = (\n",
    "            f'UPDATE {TABLE_NAME} '\n",
    "            'SET nome=%s, idade=%s '\n",
    "            'WHERE id = %s'\n",
    "        )\n",
    "        cursor.execute(sql, (\"Eleonor\", 102, 4))\n",
    "        cursor.execute(f'SELECT * FROM {TABLE_NAME} ')\n",
    "\n",
    "        data = cursor.fetchall()\n",
    "\n",
    "        for row in data:\n",
    "            print(row)"
   ]
  },
  {
   "cell_type": "code",
   "execution_count": null,
   "metadata": {},
   "outputs": [],
   "source": [
    "import os\n",
    "import dotenv\n",
    "import pymysql\n",
    "import pymysql.cursors\n",
    "\n",
    "TABLE_NAME = \"customers\"\n",
    "\n",
    "dotenv.load_dotenv()\n",
    "\n",
    "connection = pymysql.connect(\n",
    "    host=os.environ[\"MYSQL_HOST\"],\n",
    "    user=os.environ[\"MYSQL_USER\"],\n",
    "    password=os.environ[\"MYSQL_PASSWORD\"],\n",
    "    database=os.environ[\"MYSQL_DATABASE\"],\n",
    "    cursorclass=pymysql.cursors.SSDictCursor,\n",
    ")\n",
    "\n",
    "with connection:\n",
    "    with connection.cursor() as cursor:\n",
    "        sql = (\n",
    "            f'UPDATE {TABLE_NAME} '\n",
    "            'SET nome=%s, idade=%s '\n",
    "            'WHERE id = %s'\n",
    "        )\n",
    "        cursor.execute(sql, (\"Eleonor\", 102, 4))\n",
    "        cursor.execute(f'SELECT * FROM {TABLE_NAME} ')\n",
    "\n",
    "        data = cursor.fetchall_unbuffered()\n",
    "\n",
    "        for row in data:\n",
    "            print(row)"
   ]
  },
  {
   "cell_type": "markdown",
   "metadata": {},
   "source": [
    "#### rowcount, rownumber e lastrowid para detalhes de consultas executadas"
   ]
  },
  {
   "cell_type": "code",
   "execution_count": null,
   "metadata": {},
   "outputs": [],
   "source": [
    "import os\n",
    "import dotenv\n",
    "import pymysql\n",
    "import pymysql.cursors\n",
    "\n",
    "TABLE_NAME = \"customers\"\n",
    "\n",
    "dotenv.load_dotenv()\n",
    "\n",
    "connection = pymysql.connect(\n",
    "    host=os.environ[\"MYSQL_HOST\"],\n",
    "    user=os.environ[\"MYSQL_USER\"],\n",
    "    password=os.environ[\"MYSQL_PASSWORD\"],\n",
    "    database=os.environ[\"MYSQL_DATABASE\"],\n",
    "    cursorclass=pymysql.cursors.DictCursor,\n",
    ")\n",
    "\n",
    "with connection:\n",
    "    with connection.cursor() as cursor:\n",
    "        sql = (\n",
    "            f'UPDATE {TABLE_NAME} '\n",
    "            'SET nome=%s, idade=%s '\n",
    "            'WHERE id = %s'\n",
    "        )\n",
    "        cursor.execute(sql, (\"Eleonor\", 102, 4))\n",
    "        result = cursor.execute(f'SELECT * FROM {TABLE_NAME} ')\n",
    "\n",
    "        data = cursor.fetchall()\n",
    "\n",
    "        for row in data:\n",
    "            print(row)\n",
    "\n",
    "        cursor.execute(\n",
    "            f'SELECT id from {TABLE_NAME} ORDER BY id DESC LIMIT 1'\n",
    "        )\n",
    "        lastIdFromSelect = cursor.fetchone()\n",
    "        \n",
    "        print(\"resultFromSelect\", result)\n",
    "        print(\"len(data)\", len(data))\n",
    "        print(\"rowcount\", cursor.rowcount)\n",
    "        print(\"lastrowid\", cursor.lastrowid)\n",
    "        print(\"lastrowid na mão\", lastIdFromSelect)\n",
    "        print(\"rownumber\", cursor.rownumber)"
   ]
  }
 ],
 "metadata": {
  "kernelspec": {
   "display_name": "Python 3",
   "language": "python",
   "name": "python3"
  },
  "language_info": {
   "codemirror_mode": {
    "name": "ipython",
    "version": 3
   },
   "file_extension": ".py",
   "mimetype": "text/x-python",
   "name": "python",
   "nbconvert_exporter": "python",
   "pygments_lexer": "ipython3",
   "version": "3.11.2"
  }
 },
 "nbformat": 4,
 "nbformat_minor": 2
}
