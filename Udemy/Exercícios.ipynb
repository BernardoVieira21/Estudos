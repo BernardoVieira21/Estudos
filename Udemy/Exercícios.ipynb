{
 "cells": [
  {
   "attachments": {},
   "cell_type": "markdown",
   "metadata": {},
   "source": [
    "### EXERCÍCIO 01"
   ]
  },
  {
   "cell_type": "code",
   "execution_count": null,
   "metadata": {},
   "outputs": [],
   "source": [
    "name = \"Bernardo\"\n",
    "last_name = \"Vieira\"\n",
    "age = 21\n",
    "born_year = 2002\n",
    "of_legal_age = age >= 18\n",
    "if of_legal_age:\n",
    "  of_legal_age = \"É maior de idade\"\n",
    "else:\n",
    "  of_legal_age = \"Não é maior de idade\"\n",
    "meters_height = 1.72\n",
    "\n",
    "print(\"Nome:\", name)\n",
    "print(\"Sobrenome:\", last_name)\n",
    "print(\"Idade:\", age)\n",
    "print(\"Ano de nascimento:\", of_legal_age)\n",
    "print(\"É maior de idade?:\", of_legal_age)\n",
    "print(\"Altura em metros:\", meters_height)"
   ]
  },
  {
   "attachments": {},
   "cell_type": "markdown",
   "metadata": {},
   "source": [
    "### EXERCÍCIO 2"
   ]
  },
  {
   "cell_type": "code",
   "execution_count": null,
   "metadata": {},
   "outputs": [],
   "source": [
    "name = \"Bernardo Vieira\"\n",
    "height = 1.72\n",
    "weight = 89\n",
    "imc = weight / (height * height)\n",
    "\n",
    "print(f\"{name} tem {height} de altura, pesa {weight} quilos e seu IMC é {imc:.2f}\")"
   ]
  },
  {
   "cell_type": "markdown",
   "metadata": {},
   "source": [
    "### EXERCÍCIO 3"
   ]
  },
  {
   "cell_type": "code",
   "execution_count": null,
   "metadata": {},
   "outputs": [],
   "source": [
    "first_value = int(input(\"Digite um valor: \"))\n",
    "second_value = int(input(\"Digite outro valor: \"))\n",
    "\n",
    "if first_value > second_value:\n",
    "    print(f\"O primeiro valor '{first_value}' é maior do que o segundo valor '{second_value}'\")\n",
    "else:\n",
    "    print(f\"O segundo valor '{second_value}' é maior do que o primeiro valor '{first_value}'\")\n"
   ]
  }
 ],
 "metadata": {
  "kernelspec": {
   "display_name": "Python 3",
   "language": "python",
   "name": "python3"
  },
  "language_info": {
   "codemirror_mode": {
    "name": "ipython",
    "version": 3
   },
   "file_extension": ".py",
   "mimetype": "text/x-python",
   "name": "python",
   "nbconvert_exporter": "python",
   "pygments_lexer": "ipython3",
   "version": "3.10.10"
  },
  "orig_nbformat": 4
 },
 "nbformat": 4,
 "nbformat_minor": 2
}
