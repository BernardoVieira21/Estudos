{
 "cells": [
  {
   "attachments": {},
   "cell_type": "markdown",
   "metadata": {},
   "source": [
    "### EXERCÍCIO 01"
   ]
  },
  {
   "cell_type": "code",
   "execution_count": null,
   "metadata": {},
   "outputs": [],
   "source": [
    "name = \"Bernardo\"\n",
    "last_name = \"Vieira\"\n",
    "age = 21\n",
    "born_year = 2002\n",
    "of_legal_age = age >= 18\n",
    "if of_legal_age:\n",
    "  of_legal_age = \"É maior de idade\"\n",
    "else:\n",
    "  of_legal_age = \"Não é maior de idade\"\n",
    "meters_height = 1.72\n",
    "\n",
    "print(\"Nome:\", name)\n",
    "print(\"Sobrenome:\", last_name)\n",
    "print(\"Idade:\", age)\n",
    "print(\"Ano de nascimento:\", of_legal_age)\n",
    "print(\"É maior de idade?:\", of_legal_age)\n",
    "print(\"Altura em metros:\", meters_height)"
   ]
  },
  {
   "attachments": {},
   "cell_type": "markdown",
   "metadata": {},
   "source": [
    "### EXERCÍCIO 2"
   ]
  },
  {
   "cell_type": "code",
   "execution_count": null,
   "metadata": {},
   "outputs": [],
   "source": [
    "name = \"Bernardo Vieira\"\n",
    "height = 1.72\n",
    "weight = 89\n",
    "imc = weight / (height * height)\n",
    "\n",
    "print(f\"{name} tem {height} de altura, pesa {weight} quilos e seu IMC é {imc:.2f}\")"
   ]
  },
  {
   "cell_type": "markdown",
   "metadata": {},
   "source": [
    "### EXERCÍCIO 3"
   ]
  },
  {
   "cell_type": "code",
   "execution_count": null,
   "metadata": {},
   "outputs": [],
   "source": [
    "first_value = int(input(\"Digite um valor: \"))\n",
    "second_value = int(input(\"Digite outro valor: \"))\n",
    "\n",
    "if first_value > second_value:\n",
    "    print(f\"O primeiro valor '{first_value}' é maior do que o segundo valor '{second_value}'\")\n",
    "else:\n",
    "    print(f\"O segundo valor '{second_value}' é maior do que o primeiro valor '{first_value}'\")\n"
   ]
  },
  {
   "cell_type": "markdown",
   "metadata": {},
   "source": [
    "#### Exercício 4"
   ]
  },
  {
   "cell_type": "code",
   "execution_count": null,
   "metadata": {},
   "outputs": [],
   "source": [
    "# Peça ao usuário para digitar seu nome\n",
    "# Peça ao usuário para digitar sua idade\n",
    "# Se o nome e idade forem digitados:\n",
    "#     Exiba:\n",
    "#         Seu nome {nome}\n",
    "#         Seu nome invertido é {nome invertido}\n",
    "#         Seu nome contém (ou não) espaços\n",
    "#         Seu nome tem {n} letras\n",
    "#         A primeira letra do seu nome é {letra}\n",
    "#         A última letra do seu nome é {letra}\n",
    "# Se nada for digitado em nome ou idade:\n",
    "#     exiba \"Desculpe, você deixou campos vazios.\"\n",
    "\n",
    "user_name = str(input(\"Digite seu nome: \")).title()\n",
    "user_age = str(input(\"Digite sua idade: \"))\n",
    "\n",
    "if user_name and user_age:\n",
    "    print(f\"Seu nome é {user_name}\")\n",
    "    print(f\"Seu nome invertido é {user_name[::-1]}\")\n",
    "    if \" \" in user_name:\n",
    "        print(f\"Seu nome contém espaços\")\n",
    "    else:\n",
    "        print(\"Seu nome não contém espaços\")\n",
    "    print(f\"Seu nome tem {len(user_name)} letras\")\n",
    "    print(f\"A primeira letra do seu nome é {user_name[0]}\")\n",
    "    print(f\"A ultima letra do seu nome é {user_name[-1]}\")\n",
    "else:\n",
    "    print(\"Desculpe, você deixou campos vazios.\")"
   ]
  },
  {
   "cell_type": "markdown",
   "metadata": {},
   "source": [
    "#### Exercício 5"
   ]
  },
  {
   "cell_type": "code",
   "execution_count": null,
   "metadata": {},
   "outputs": [],
   "source": [
    "# Faça um programa que peça ao usuário para digitar um número inteiro, informe se este número é par ou ímpar.\n",
    "# Caso o usuário não digite um número inteiro, informe que não um número inteiro.\n",
    "error = True\n",
    "while error:\n",
    "    try:\n",
    "        number = int(input(\"Por favor digite um número inteiro: \"))\n",
    "    except ValueError:\n",
    "        print(\"Numéro informado não é um inteiro, tente novamente...\")\n",
    "        error = True\n",
    "    else:\n",
    "        error = False\n",
    "\n",
    "if number % 2 == 0:\n",
    "    print(\"O número é par!\")\n",
    "else:\n",
    "    print(\"O número é ímpar!\")"
   ]
  },
  {
   "cell_type": "markdown",
   "metadata": {},
   "source": [
    "#### Exercício 6"
   ]
  },
  {
   "cell_type": "code",
   "execution_count": null,
   "metadata": {},
   "outputs": [],
   "source": [
    "# Faça um programa que pergunte a hora ao usuário e, baseando-se no horário descrito, exiba a saudação.\n",
    "# Ex: Bom dia 0-11, Boa tarde 12-17 e Boa noite 18-23.\n",
    "\n",
    "input_hour = str(input(\"Informe a hora: (Ex: 07:00)\"))\n",
    "verify_hour = int(input_hour[:2])\n",
    "\n",
    "if verify_hour >= 0 and verify_hour < 12:\n",
    "    print(\"Bom dia!\")\n",
    "\n",
    "elif verify_hour >= 12 and verify_hour < 18:\n",
    "    print(\"Boa tarde!\")\n",
    "\n",
    "elif verify_hour >= 18 and verify_hour < 24:\n",
    "    print(\"Boa noite!\")\n",
    "\n",
    "else:\n",
    "    print(\"Não conheço esta hora!\")"
   ]
  },
  {
   "cell_type": "markdown",
   "metadata": {},
   "source": [
    "#### Exercício 7"
   ]
  },
  {
   "cell_type": "code",
   "execution_count": null,
   "metadata": {},
   "outputs": [],
   "source": [
    "# Faça um programa que peça o primeiro nome do usuário.\n",
    "# Se o nome tiver 4 letras ou menos escreva \"Seu nome é curto\"; se tiver entre 5 e 6 letras, escreva \"Seu nome é normal\";\n",
    "# Maior que 6 escreva \"Seu nome é muito grande\"\n",
    "\n",
    "input_name = str(input(\"Digite seu primeiro nome: \"))\n",
    "\n",
    "if len(input_name) <= 4:\n",
    "    print(\"Seu nome é curto!\")\n",
    "\n",
    "elif len(input_name) == 5 or len(input_name) == 6:\n",
    "    print(\"Seu nome é normal!\")\n",
    "\n",
    "else:\n",
    "    print(\"Seu nome é muito grande!\")"
   ]
  },
  {
   "cell_type": "markdown",
   "metadata": {},
   "source": [
    "#### Exercício 8"
   ]
  },
  {
   "cell_type": "code",
   "execution_count": null,
   "metadata": {},
   "outputs": [],
   "source": [
    "# Iterando strings com while\n",
    "\n",
    "nome = \"Luiz Otávio\"\n",
    "tamanho_nome = len(nome)\n",
    "\n",
    "index = 0\n",
    "novo_nome = \"\"\n",
    "while index < tamanho_nome:\n",
    "    letra = nome[index]\n",
    "    novo_nome += f\"¨{letra}¨\"\n",
    "    index += 1\n",
    "    \n",
    "print(novo_nome)"
   ]
  },
  {
   "cell_type": "markdown",
   "metadata": {},
   "source": [
    "#### Exercício 9"
   ]
  },
  {
   "cell_type": "code",
   "execution_count": null,
   "metadata": {},
   "outputs": [],
   "source": [
    "# Calculadora com while\n",
    "\n",
    "operators = \"\"\"\n",
    "Selecione a operação:\n",
    "[1] Adição\n",
    "[2] Subtração\n",
    "[3] Divisão\n",
    "[4] Multiplicação\n",
    "[0] Sair\n",
    "\"\"\"\n",
    "operator = \"\"\n",
    "while operator != \"0\":\n",
    "    first_number = input(\"Insira um número1: \")\n",
    "    if \".\" in first_number:\n",
    "        first_number = float(first_number)\n",
    "    else:\n",
    "        first_number = int(first_number)\n",
    "\n",
    "    operator = input(f\"{operators} \")\n",
    "\n",
    "    second_number = input(\"Insira um número: \")\n",
    "    if \".\" in second_number:\n",
    "        second_number = float(second_number)\n",
    "    else:\n",
    "        second_number = int(second_number)\n",
    "\n",
    "    if operator == \"1\":\n",
    "        result = first_number + second_number\n",
    "        \n",
    "    elif operator == \"2\":\n",
    "        result = first_number - second_number\n",
    "        \n",
    "    elif operator == \"3\":\n",
    "        result = first_number * second_number\n",
    "\n",
    "    elif operator == \"4\":\n",
    "        result = first_number / second_number\n",
    "        \n",
    "    print(result)"
   ]
  },
  {
   "cell_type": "markdown",
   "metadata": {},
   "source": [
    "#### Exercício 10"
   ]
  },
  {
   "cell_type": "code",
   "execution_count": null,
   "metadata": {},
   "outputs": [],
   "source": [
    "frase = \"O Python é uma linguagem de programação \" \\\n",
    "    \"multiparadigma. \" \\\n",
    "    \"Python foi criado por Guido Van Rossum.\"\n",
    "\n",
    "i = 0\n",
    "qtd_apareceu_mais_vezes = 0\n",
    "letra_apareceu_mais_vezes = \"\"\n",
    "\n",
    "while i < len(frase):\n",
    "    frase = frase.replace(\" \", \"\").lower()\n",
    "    letra_atual = frase[i]\n",
    "    qtd_apareceu_mais_vezes_atual = frase.count(letra_atual)\n",
    "\n",
    "    if qtd_apareceu_mais_vezes < qtd_apareceu_mais_vezes_atual:\n",
    "        qtd_apareceu_mais_vezes = qtd_apareceu_mais_vezes_atual\n",
    "        letra_apareceu_mais_vezes = letra_atual\n",
    "\n",
    "    i += 1\n",
    "    \n",
    "print(letra_apareceu_mais_vezes, qtd_apareceu_mais_vezes)"
   ]
  },
  {
   "cell_type": "markdown",
   "metadata": {},
   "source": [
    "#### Exercício 11"
   ]
  },
  {
   "cell_type": "code",
   "execution_count": null,
   "metadata": {},
   "outputs": [],
   "source": [
    "# Faça um jogo para o usuário adivinhar qual a palavra secreta.\n",
    "# - Você vai propor uma palavra secreta qualquer e vai dar a possibilidade para o usuário digitar apenas uma letra.\n",
    "# - Quando o usuário digitar uma letra, você vai conferir se a letra digita está na palavra secreta.\n",
    "#   - Se a letra digitada estiver na palavra secreta; Exiba a letra;\n",
    "#   - Se a letra digitada não estiver na palavra secreta; Exiba *;\n",
    "# Faça a contagem de tentativas do usuário.\n",
    "\n",
    "from os import system\n",
    "\n",
    "secret_word = \"algoritmos\"\n",
    "formated_word = \"\"\n",
    "count = 0\n",
    "\n",
    "while True:\n",
    "    user_try = input(\"Digite uma letra: \")\n",
    "    count += 1\n",
    "\n",
    "    if len(user_try) > 1:\n",
    "        print(\"Digite apenas uma letra\")\n",
    "        continue\n",
    "\n",
    "    if user_try in secret_word:\n",
    "        formated_word += user_try\n",
    "    \n",
    "    letter_rights = \"\"\n",
    "    for letter in secret_word:\n",
    "        if letter in formated_word:\n",
    "            letter_rights += letter\n",
    "        else:\n",
    "            letter_rights += \"*\"\n",
    "    print(letter_rights)\n",
    "\n",
    "    if letter_rights == secret_word:\n",
    "        system(\"clear\")\n",
    "        print(\"VOCÊ GANHOU!! PARABÉNS!\")\n",
    "        print(\"A palavra era \", secret_word)\n",
    "        print(\"Tentativas: \", count)\n",
    "        break\n"
   ]
  },
  {
   "cell_type": "markdown",
   "metadata": {},
   "source": [
    "#### Exercício 12"
   ]
  },
  {
   "cell_type": "code",
   "execution_count": null,
   "metadata": {},
   "outputs": [],
   "source": [
    "# Exiba os índices da lista\n",
    "\n",
    "indice = 0\n",
    "lista = [\"Maria\", \"Helena\", \"Luiz\"]\n",
    "\n",
    "for nome in lista:\n",
    "    print(indice, nome)\n",
    "    indice += 1"
   ]
  },
  {
   "cell_type": "markdown",
   "metadata": {},
   "source": [
    "#### Exercício 13"
   ]
  },
  {
   "cell_type": "code",
   "execution_count": null,
   "metadata": {},
   "outputs": [],
   "source": [
    "# Faça uma lista de compras com listas\n",
    "# O usuário deve ter a possibilidade de inserir, apagar e listar valores da sua lista\n",
    "# Não permita que o programa quebre com erros de índices inexistentes na lista.\n",
    "\n",
    "menu = \"\"\"\n",
    "Selecione uma opção\n",
    "[i]nserir [a]pagar [l]istar: \n",
    "\"\"\"\n",
    "buy_list = []\n",
    "\n",
    "while True:\n",
    "    option = input(f\"{menu}\").lower()\n",
    "    \n",
    "    if option not in \"ial\":\n",
    "        print(\"Escolha uma opção valida\")\n",
    "\n",
    "    elif option == \"i\":\n",
    "        value = input(\"Valor: \")\n",
    "        buy_list.append(value)\n",
    "    \n",
    "    elif option == \"a\":\n",
    "        del_index = int(input(\"Escolha o índice para apagar: \"))\n",
    "        try:\n",
    "            buy_list.pop(del_index)\n",
    "        except TypeError:\n",
    "            print(\"Não foi possível apagar este índice\")\n",
    "        except IndexError:\n",
    "            print(\"Não foi possível apagar este índice\")\n",
    "\n",
    "    elif option == \"l\":\n",
    "        if buy_list:\n",
    "            for index, item in enumerate(buy_list):\n",
    "                print(index, item)\n",
    "        else:\n",
    "            print(\"Nada para listar\")\n",
    "    "
   ]
  },
  {
   "cell_type": "markdown",
   "metadata": {},
   "source": [
    "#### Exercício 14"
   ]
  },
  {
   "cell_type": "code",
   "execution_count": null,
   "metadata": {},
   "outputs": [],
   "source": [
    "\"\"\"\n",
    "Calculo do primeiro dígito do CPF\n",
    "CPF: 746.824.890-70\n",
    "Colete a soma dos 9 primeiros dígitos do CPF\n",
    "multiplicando cada um dos valores por uma\n",
    "contagem regressiva começando de 10\n",
    "\n",
    "Ex.:  746.824.890-70 (746824890)\n",
    "   10  9  8  7  6  5  4  3  2\n",
    "*  7   4  6  8  2  4  8  9  0\n",
    "   70  36 48 56 12 20 32 27 0\n",
    "\n",
    "Somar todos os resultados: \n",
    "70+36+48+56+12+20+32+27+0 = 301\n",
    "Multiplicar o resultado anterior por 10\n",
    "301 * 10 = 3010\n",
    "Obter o resto da divisão da conta anterior por 11\n",
    "3010 % 11 = 7\n",
    "Se o resultado anterior for maior que 9:\n",
    "    resultado é 0\n",
    "contrário disso:\n",
    "    resultado é o valor da conta\n",
    "\n",
    "O primeiro dígito do CPF é 7\n",
    "\"\"\"\n",
    "\n",
    "cpf = \"746.824.890-70\"\n",
    "\n",
    "treat_cpf = cpf.replace(\"-\", \".\").split(\".\")\n",
    "treat_cpf = treat_cpf[0] + treat_cpf[1] + treat_cpf[2]\n",
    "\n",
    "multi = 10\n",
    "result_multi = []\n",
    "for number in treat_cpf:\n",
    "    result_multi.append(int(number)*multi)\n",
    "    multi -= 1\n",
    "\n",
    "sum_number = 0\n",
    "for number in result_multi:\n",
    "    sum_number += number\n",
    "\n",
    "equation = (sum_number * 10) % 11\n",
    "\n",
    "if equation > 9:\n",
    "    result = 0\n",
    "\n",
    "else:\n",
    "    result = equation\n",
    "\n",
    "print(f\"O primeiro dígito do CPF é {equation}\")"
   ]
  }
 ],
 "metadata": {
  "kernelspec": {
   "display_name": "Python 3",
   "language": "python",
   "name": "python3"
  },
  "language_info": {
   "codemirror_mode": {
    "name": "ipython",
    "version": 3
   },
   "file_extension": ".py",
   "mimetype": "text/x-python",
   "name": "python",
   "nbconvert_exporter": "python",
   "pygments_lexer": "ipython3",
   "version": "3.11.2"
  },
  "orig_nbformat": 4
 },
 "nbformat": 4,
 "nbformat_minor": 2
}
