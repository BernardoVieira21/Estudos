{
 "cells": [
  {
   "attachments": {},
   "cell_type": "markdown",
   "metadata": {},
   "source": [
    "### PRINT"
   ]
  },
  {
   "cell_type": "code",
   "execution_count": null,
   "metadata": {},
   "outputs": [],
   "source": [
    "#  Permite escrever um comentário\n",
    "print(12, 34, sep=\".\")\n",
    "print(56, 78, sep='.')"
   ]
  },
  {
   "attachments": {},
   "cell_type": "markdown",
   "metadata": {},
   "source": [
    "### STRING"
   ]
  },
  {
   "cell_type": "code",
   "execution_count": null,
   "metadata": {},
   "outputs": [],
   "source": [
    "\"\"\"\n",
    "Python = Linguagem de programação\n",
    "Tipo de tipagem = Dinâmica / Forte\n",
    "str -> string -> texto\n",
    "Strings são textos que estão dentro de aspas\n",
    "\"\"\"\n",
    "\n",
    "# Aspas simples\n",
    "print('Bernardo Vieira')\n",
    "print('Bernardo \"Vieira\"')\n",
    "\n",
    "\n",
    "# Aspas duplas\n",
    "print(\"Bernardo Vieira\")\n",
    "print(\"Bernardo 'Vieira'\")\n",
    "\n",
    "# Escape\n",
    "print(\"Bernardo \\\"Vieira\\\"\")\n",
    "\n",
    "# r\n",
    "print(r\"Bernardo \\\"Vieira\\\"\")"
   ]
  },
  {
   "attachments": {},
   "cell_type": "markdown",
   "metadata": {},
   "source": [
    "### INTEIRO"
   ]
  },
  {
   "cell_type": "code",
   "execution_count": null,
   "metadata": {},
   "outputs": [],
   "source": [
    "# int -> Número inteiro\n",
    "# O tipo int representa qualquer número\n",
    "# positivo ou negativo. int sem sinal é considerado positivo.\n",
    "print(11) # int\n",
    "print(-11) # int\n",
    "print(0) # int"
   ]
  },
  {
   "attachments": {},
   "cell_type": "markdown",
   "metadata": {},
   "source": [
    "### FLOAT"
   ]
  },
  {
   "cell_type": "code",
   "execution_count": null,
   "metadata": {},
   "outputs": [],
   "source": [
    "# float -> Número com ponto flutuante\n",
    "# O tipo float representa qualquer número positivo ou negativo com ponto flutuante.\n",
    "# float sem sinal é considerado positivo.\n",
    "print(1.1) # float\n",
    "print(0.0) # float\n",
    "print(-1.5) # float"
   ]
  },
  {
   "attachments": {},
   "cell_type": "markdown",
   "metadata": {},
   "source": [
    "### BOOLEAN"
   ]
  },
  {
   "cell_type": "code",
   "execution_count": null,
   "metadata": {},
   "outputs": [],
   "source": [
    "# Tipo de dado bool\n",
    "# Ao questionar algo em um programa, só existem duas respostas possíveis: sim (True) ou não (False).\n",
    "# Existem vários operadores para \"questionar\".\n",
    "# Dentre eles o ==, que é um operador lógico que questiona se um valor é igual a outro.\n",
    "print(10 == 10) # Sim -> True (Verdadeiro)\n",
    "print(10 == 11) # Não -> False (Falso)"
   ]
  },
  {
   "attachments": {},
   "cell_type": "markdown",
   "metadata": {},
   "source": [
    "### TYPE"
   ]
  },
  {
   "cell_type": "code",
   "execution_count": null,
   "metadata": {},
   "outputs": [],
   "source": [
    "# A função type mostra o tipo que o Python inferiu ao valor.\n",
    "print(type(\"Otávio\")) # str\n",
    "print(type(1)) # int\n",
    "print(type(1.1)) # float\n",
    "print(type(True)) # bool"
   ]
  },
  {
   "attachments": {},
   "cell_type": "markdown",
   "metadata": {},
   "source": [
    "### CONVERSÃO DE TIPOS"
   ]
  },
  {
   "cell_type": "code",
   "execution_count": null,
   "metadata": {},
   "outputs": [],
   "source": [
    "# Conversão de tipos, coerção\n",
    "# type convertion, typecasting, coercion é o ato de converter um tipo em outro\n",
    "# tipos imutáveis e primitivos:\n",
    "# str, int, float, bool\n",
    "print(int(\"1\"), type(int(\"1\")))"
   ]
  },
  {
   "attachments": {},
   "cell_type": "markdown",
   "metadata": {},
   "source": [
    "### VARIÁVEIS"
   ]
  },
  {
   "cell_type": "code",
   "execution_count": null,
   "metadata": {},
   "outputs": [],
   "source": [
    "# Variáveis são usadas para salvar algo na memória do computdaor.\n",
    "# PEP8: inicie variáveis com letras minúsculas, pode usar números e underline.\n",
    "# O sinal de = é o operador de atribuição. Ele é usado para atribuir um valor a um nome (variável).\n",
    "# Uso: nome_variavel (snake_case) = expressão\n",
    "nome_completo = \"Bernardo Vieira\"\n",
    "soma_dois_mais_dois = 2 + 2\n",
    "print(nome_completo) # Bernardo Vieira\n",
    "print(soma_dois_mais_dois) # 4\n",
    "\n",
    "# Variáveis são utilizadas para deixar o código mais legível e para não repetir coisas.\n",
    "int_um = int(\"1\")\n",
    "print(int_um, type(int_um))\n",
    "\n",
    "nome = \"Bernardo\"\n",
    "idade = 21\n",
    "maior_de_idade = idade >= 18"
   ]
  },
  {
   "attachments": {},
   "cell_type": "markdown",
   "metadata": {},
   "source": [
    "### OPERADORES ARITMÉTICOS"
   ]
  },
  {
   "cell_type": "code",
   "execution_count": null,
   "metadata": {},
   "outputs": [],
   "source": [
    "adicao = 10 + 10\n",
    "print(\"Adição\", adicao)\n",
    "\n",
    "subtracao = 10 - 5\n",
    "print(\"Subtração\", subtracao)\n",
    "\n",
    "multiplicacao = 10 * 10\n",
    "print(\"Multiplicação\", multiplicacao)\n",
    "\n",
    "divisão = 10 / 2.2  # Float\n",
    "print(\"Divisão\", divisão)\n",
    "\n",
    "divisao_inteira = 10 // 2.2\n",
    "print(\"Divisão inteira\", divisao_inteira)\n",
    "\n",
    "exponenciacao = 2 ** 10\n",
    "print(\"Exponenciação\", exponenciacao)\n",
    "\n",
    "modulo = 55 % 2  # Resto da divisão\n",
    "print(\"Modúlo\", modulo)"
   ]
  },
  {
   "attachments": {},
   "cell_type": "markdown",
   "metadata": {},
   "source": [
    "### CONCATENAÇÃO E REPETIÇÃO COM OPERADORES ARITMÉTICOS"
   ]
  },
  {
   "cell_type": "code",
   "execution_count": null,
   "metadata": {},
   "outputs": [],
   "source": [
    "concatenacao = \"A\" + \"B\" + \"C\"\n",
    "print(concatenacao)\n",
    "\n",
    "a_dez_vezes = \"A\" * 10\n",
    "tres_vezes_luiz = 3 * \"Luiz\"\n",
    "print(a_dez_vezes)\n",
    "print(tres_vezes_luiz)"
   ]
  },
  {
   "attachments": {},
   "cell_type": "markdown",
   "metadata": {},
   "source": [
    "### PRECEDÊNCIA ENTRE OS OPERADORES ARITMÉTICOS"
   ]
  },
  {
   "cell_type": "code",
   "execution_count": null,
   "metadata": {},
   "outputs": [],
   "source": [
    "# 1. (n + n)\n",
    "# 2. **\n",
    "# 3. * / // %\n",
    "# 4. + -\n",
    "\n",
    "conta_1 = (1 + 1) ** (5 + 5)\n",
    "print(conta_1)"
   ]
  },
  {
   "cell_type": "markdown",
   "metadata": {},
   "source": [
    "### F-STRINGS"
   ]
  },
  {
   "cell_type": "code",
   "execution_count": null,
   "metadata": {},
   "outputs": [],
   "source": [
    "nome = \"Bernardo\"\n",
    "altura = 1.72\n",
    "dinheiro = 10450\n",
    "\n",
    "linha_1 = f\"{nome} tem {altura} de altura\"\n",
    "linha_2 = f\"e possui {dinheiro:,.2f} na carteira\"\n",
    "print(linha_1)\n",
    "print(linha_2)\n",
    "\n",
    "# Formatação básica de strings\n",
    "# s - string\n",
    "# d - int\n",
    "# f - float\n",
    "# .<número de dígitos>f\n",
    "# x ou X - Hexadecimal\n",
    "# (Caractere)(><^)(Quantidade)\n",
    "# > - Esquerda\n",
    "# < - Direita\n",
    "# ^ - Centro\n",
    "# = - Força o número a aparecer antes dos zeros\n",
    "# Sinal - + ou -\n",
    "# Ex.: 0>-100,.1f\n",
    "# Conversion flags - !r !s !a\n",
    "\n",
    "variavel = \"ABC\"\n",
    "print(f\"{variavel}\")\n",
    "print(f\"{variavel: >10}\")\n",
    "print(f\"{variavel: <10}\")\n",
    "print(f\"{variavel: <10}\")\n",
    "print(f\"{1000.32183175132:+,.1f}\")\n",
    "print(f\"O hexadecimal de 1500 é {1500:08X}\")\n",
    "print(f\"{variavel!r}\")"
   ]
  },
  {
   "cell_type": "markdown",
   "metadata": {},
   "source": [
    "### FORMAT STRINGS"
   ]
  },
  {
   "cell_type": "code",
   "execution_count": null,
   "metadata": {},
   "outputs": [],
   "source": [
    "a = \"A\"\n",
    "b = \"B\"\n",
    "c = \"C\"\n",
    "d = 1.1\n",
    "formato = \"a={} b={} c={} d={:.2f}\".format(a, b, c, d)\n",
    "formato = \"a={} b={} c={} d={numero1:.2f}\".format(nome1=a, nome2=b, nome3=c, numero1=d) # Parâmetros nomeados\n",
    "\n",
    "print(formato)"
   ]
  },
  {
   "cell_type": "markdown",
   "metadata": {},
   "source": [
    "### INPUT"
   ]
  },
  {
   "cell_type": "code",
   "execution_count": null,
   "metadata": {},
   "outputs": [],
   "source": [
    "nome = input(\"Qual o seu nome? \")\n",
    "print(f\"O seu nome é {nome}\")\n",
    "\n",
    "numero_1 = int(input(\"Digite um número: \"))\n",
    "numero_2 = int(input(\"Digite outro número: \"))\n",
    "\n",
    "print(f\"A soma dos números é: {numero_1 + numero_2}\")"
   ]
  },
  {
   "cell_type": "markdown",
   "metadata": {},
   "source": [
    "### IF / ELIF / ELSE"
   ]
  },
  {
   "cell_type": "code",
   "execution_count": null,
   "metadata": {},
   "outputs": [],
   "source": [
    "# if / elif      / else\n",
    "# se / se não se / se não\n",
    "entrada = input(\"Você quer 'entrar' ou 'sair'? \")\n",
    "\n",
    "if entrada == \"entrar\":\n",
    "    print(\"Você entrou no sistema\")\n",
    "\n",
    "elif entrada == \"sair\":\n",
    "    print(\"Você saiu do sistema\")\n",
    "\n",
    "else:\n",
    "    print(\"Você não digitou nem entrar e nem sair.\")\n",
    "\n",
    "\n",
    "condicao1 = False\n",
    "condicao2 = False\n",
    "condicao3 = True\n",
    "condicao4 = True\n",
    "\n",
    "if condicao1:\n",
    "    print(\"Código para condição 1\")\n",
    "\n",
    "elif condicao2:\n",
    "    print(\"Código para condição 2\")\n",
    "\n",
    "elif condicao3:\n",
    "    print(\"Código para condição 3\")\n",
    "\n",
    "elif condicao4:\n",
    "    print(\"Código para condição 4\")\n",
    "     \n",
    "else:\n",
    "    print(\"Nenhuma condiçao foi satisfeita.\")\n",
    "\n",
    "if 10 == 10:\n",
    "    print(\"Outro if\")\n",
    "\n",
    "print(\"Fora do if\")"
   ]
  },
  {
   "cell_type": "markdown",
   "metadata": {},
   "source": [
    "#### Operadores de comparação (relacionais)"
   ]
  },
  {
   "cell_type": "code",
   "execution_count": null,
   "metadata": {},
   "outputs": [],
   "source": [
    "# OP    Significado          Exemplo (True)\n",
    "# >     maior                2 > 1\n",
    "# >=    maior ou igual       2 >= 1\n",
    "# <     menor                1 < 2\n",
    "# <=    menor ou igual       2 <= 2\n",
    "# ==    igual                \"a\" == \"a\"\n",
    "# !=    diferente            \"a\" != \"b\"\n",
    "\n",
    "maior = 2 > 1\n",
    "maior_ou_igual = 2 >= 2\n",
    "menor = 1 < 2\n",
    "menor_ou_igual = 2 <= 2\n",
    "igual = \"a\" == \"a\"\n",
    "diferente = \"a\" != \"b\"\n",
    "print(diferente)"
   ]
  },
  {
   "cell_type": "markdown",
   "metadata": {},
   "source": [
    "### Operadores lógicos\n",
    "#### and (e) or (ou) not (não)"
   ]
  },
  {
   "cell_type": "code",
   "execution_count": null,
   "metadata": {},
   "outputs": [],
   "source": [
    "# and - Todas as condições precisam ser verdadeiras.\n",
    "# Se qualquer valor for considerador falso, a expressão inteira será avaliada naquele valor.\n",
    "# São considerados falsy:\n",
    "# 0 0.0 \"\" False\n",
    "# Também existe o tipo None que é usado para representar um não valor.\n",
    "\n",
    "user_input = input(\"[E]ntrar [S]air: \")\n",
    "password = input(\"Senha: \")\n",
    "\n",
    "password_allowed = \"123456\"\n",
    "\n",
    "if entrada == \"E\" and password == password_allowed:\n",
    "    print(\"Entrar\")\n",
    "else:\n",
    "    print(\"Sair\")\n",
    "\n",
    "# Avaliação de curto circuito\n",
    "print(True and False and True)"
   ]
  },
  {
   "cell_type": "markdown",
   "metadata": {},
   "source": [
    "#### Fatiamento de Strings e a Função len"
   ]
  },
  {
   "cell_type": "code",
   "execution_count": null,
   "metadata": {},
   "outputs": [],
   "source": [
    "# Fatiamento de Strings\n",
    "#  012345678\n",
    "#  Olá mundo\n",
    "# -987654321\n",
    "# Fatiamento [i:f:p] [::]\n",
    "# Obs.: a função len retorna a qtd de caracteres da str\n",
    "\n",
    "variavel = \"Olá mundo\"\n",
    "print(variavel[::-1])"
   ]
  },
  {
   "cell_type": "markdown",
   "metadata": {},
   "source": [
    "#### Try/Except"
   ]
  },
  {
   "cell_type": "code",
   "execution_count": null,
   "metadata": {},
   "outputs": [],
   "source": [
    "# try -> tentar executar o código\n",
    "# except -> ocorreu algum erro ao tentar executar\n",
    "\n",
    "numero_str = input(\"Vou dobrar o número que você digitar: \")\n",
    "\n",
    "try:\n",
    "    print(\"STR:\", numero_str)\n",
    "    numero_float = float(numero_str)\n",
    "    print(\"FLOAT:\", numero_float)\n",
    "    print(f\"O dobro de {numero_str} é {numero_float * 2:.2f}\")\n",
    "except:\n",
    "    print(\"Isso não é um número\")"
   ]
  },
  {
   "cell_type": "markdown",
   "metadata": {},
   "source": [
    "#### Variáveis, constantes e complexidade de código"
   ]
  },
  {
   "cell_type": "code",
   "execution_count": null,
   "metadata": {},
   "outputs": [],
   "source": [
    "# CONSTANTE = \"Variáveis\" que não vão mudar\n",
    "# Muitas condições no mesmo if (ruim)\n",
    "#   <- Contagem de complexidade (ruim)\n",
    "\n",
    "velocidade = 60 # velocidade atual do carro\n",
    "local_carro = 90 # local em que o carro está na estrada\n",
    "\n",
    "RADAR_1 = 60 # velocidade máxima do radar 1\n",
    "LOCAL_1 = 100 # local onde o radar 1 está\n",
    "RADAR_RANGE = 1 # A distância onde o radar pega\n",
    "\n",
    "velocidade_carro_passou_radar_1 = velocidade > RADAR_1\n",
    "carro_passou_radar_1 = local_carro >= (LOCAL_1 - RADAR_RANGE) and local_carro <= (LOCAL_1 + RADAR_RANGE)\n",
    "carro_multado_radar_1 = carro_passou_radar_1 and velocidade_carro_passou_radar_1\n",
    "\n",
    "if velocidade > RADAR_1:\n",
    "    print(\"Velocidade do carro passou do radar 1\")\n",
    "\n",
    "if carro_passou_radar_1:\n",
    "    print(\"Carro passou radar 1\")\n",
    "\n",
    "if carro_multado_radar_1:\n",
    "    print(\"Carro multado em radar 1\")"
   ]
  },
  {
   "cell_type": "markdown",
   "metadata": {},
   "source": [
    "#### A identidade do valor que está na memória"
   ]
  },
  {
   "cell_type": "code",
   "execution_count": null,
   "metadata": {},
   "outputs": [],
   "source": [
    "# Flag (Bandeira) - Marcar um local\n",
    "# None = Não valor\n",
    "# is e is not = é ou não é (tipo, valor, identidade)\n",
    "# id = Identidade\n",
    "\n",
    "v1 = \"a\"\n",
    "print(id(v1))\n",
    "\n",
    "condicao = True\n",
    "passou_no_if = None\n",
    "\n",
    "if condicao:\n",
    "    passou_no_if = True\n",
    "    print(\"Faça algo\")\n",
    "else:\n",
    "    print(\"Não faça algo\")\n",
    "\n",
    "if passou_no_if is None:\n",
    "    print(\"Não passou no if\")\n",
    "else:\n",
    "    print(\"Passou no if\")"
   ]
  },
  {
   "cell_type": "markdown",
   "metadata": {},
   "source": [
    "#### Tipos built-in, documentação, tipo imutáveis, métodos de string."
   ]
  },
  {
   "cell_type": "code",
   "execution_count": null,
   "metadata": {},
   "outputs": [],
   "source": [
    "# https://docs.python.org/pt-br/3/library/stdtypes.html\n",
    "# Imutáveis que vimos: str, int, float, bool\n",
    "\n",
    "string = \"Luiz Otávio\"\n",
    "outra_variavel = f\"{string[:3]}ABC\"\n",
    "print(string)\n",
    "print(outra_variavel)\n",
    "print(string.zfill(100))"
   ]
  },
  {
   "cell_type": "markdown",
   "metadata": {},
   "source": [
    "#### while e break - Estrutura de Repetição"
   ]
  },
  {
   "cell_type": "code",
   "execution_count": null,
   "metadata": {},
   "outputs": [],
   "source": [
    "# Repetições\n",
    "# while (enquanto)\n",
    "# Executa uma ação enquanto uma condição for verdadeira\n",
    "# Loop infinito -> Quando um código não tem fim\n",
    "\n",
    "condicao = True\n",
    "\n",
    "while condicao:\n",
    "    nome = input(\"Qual o seu nome: \")\n",
    "    print(f\"Seu nome é {nome}\")\n",
    "\n",
    "    if nome == \"sair\":\n",
    "        break\n",
    "    "
   ]
  },
  {
   "cell_type": "code",
   "execution_count": null,
   "metadata": {},
   "outputs": [],
   "source": [
    "contador = 0\n",
    "\n",
    "while contador < 10:\n",
    "    contador += 1\n",
    "    print(contador)\n",
    "\n",
    "print(\"Acabou\")\n"
   ]
  },
  {
   "cell_type": "code",
   "execution_count": null,
   "metadata": {},
   "outputs": [],
   "source": [
    "contador = 0\n",
    "\n",
    "while contador <= 100:\n",
    "    contador += 1\n",
    "\n",
    "    if contador == 6:\n",
    "        print(\"Não vou mostrar o 6.\")\n",
    "        continue\n",
    "\n",
    "    if contador >= 10 and contador <= 27:\n",
    "        print(\"Não vou mostrar o\", contador)\n",
    "        continue\n",
    "\n",
    "    print(contador)\n",
    "    \n",
    "    if contador == 40:\n",
    "        break\n",
    "\n",
    "print(\"Acabou\")"
   ]
  },
  {
   "cell_type": "code",
   "execution_count": null,
   "metadata": {},
   "outputs": [],
   "source": [
    "qtd_linhas = 5\n",
    "qtd_colunas = 5\n",
    "\n",
    "linha = 1\n",
    "while linha <= qtd_linhas:\n",
    "    coluna = 1\n",
    "    \n",
    "\n",
    "    while coluna <= qtd_colunas:\n",
    "        print(linha, coluna)\n",
    "        coluna += 1\n",
    "\n",
    "    linha += 1\n",
    "\n",
    "print(\"Acabou\")"
   ]
  },
  {
   "cell_type": "code",
   "execution_count": null,
   "metadata": {},
   "outputs": [],
   "source": [
    "# while/else\n",
    "string = \"ValorQualquer\"\n",
    "\n",
    "i = 0\n",
    "while i < len(string):\n",
    "    letra = string[i]\n",
    "\n",
    "    if letra == \" \":\n",
    "        break\n",
    "\n",
    "    print(letra)\n",
    "    i += 1\n",
    "\n",
    "else:\n",
    "    print(\"Não encontrei um espaço na string.\")\n"
   ]
  },
  {
   "cell_type": "markdown",
   "metadata": {},
   "source": [
    "#### Operadores de atribuição com operadores aritméticos"
   ]
  },
  {
   "cell_type": "code",
   "execution_count": null,
   "metadata": {},
   "outputs": [],
   "source": [
    "# Operadores de atribuição\n",
    "# = += -= *= /= //= **= %=\n",
    "\n",
    "contador = 10\n",
    "\n",
    "contador %= 2\n",
    "print(contador)"
   ]
  },
  {
   "cell_type": "markdown",
   "metadata": {},
   "source": [
    "#### Introdução ao for / in - estrutura de repetição para coisas finitas."
   ]
  },
  {
   "cell_type": "code",
   "execution_count": null,
   "metadata": {},
   "outputs": [],
   "source": [
    "texto = \"Python\"\n",
    "\n",
    "novo_texto = \"\"\n",
    "for letra in texto:\n",
    "    novo_texto += f\"*{letra}\"\n",
    "    print(letra)\n",
    "print(novo_texto + \"*\")"
   ]
  },
  {
   "cell_type": "code",
   "execution_count": null,
   "metadata": {},
   "outputs": [],
   "source": [
    "# For + Range\n",
    "# range -> range(start, stop, step)\n",
    "numeros = range(0, 10, 2)\n",
    "\n",
    "for numero in numeros:\n",
    "    print(numero)"
   ]
  },
  {
   "cell_type": "code",
   "execution_count": null,
   "metadata": {},
   "outputs": [],
   "source": [
    "# Iterável -> str, range, etc (__iter__)\n",
    "# Iterador -> quem sabe entregar um valor por vez\n",
    "# next -> me entregue o próximo valor\n",
    "# iter -> me entregue seu iterador\n",
    "texto = iter(\"Luiz\") # __iter__()\n",
    "texto = \"Luiz\" \n",
    "iterador = iter(texto)\n",
    "\n",
    "while True:\n",
    "    try:\n",
    "        letra = next(iterador)\n",
    "        print(letra)\n",
    "    except StopIteration:\n",
    "        break"
   ]
  },
  {
   "cell_type": "code",
   "execution_count": null,
   "metadata": {},
   "outputs": [],
   "source": [
    "for i in range(10):\n",
    "    if i == 2:\n",
    "        print(\"i é 2, pulando...\")\n",
    "        continue\n",
    "\n",
    "    if i == 8:\n",
    "        print(\"i é 8, seu else não executará\")\n",
    "        break\n",
    "\n",
    "    for j in range(1, 3):\n",
    "        print(i, j)\n",
    "    \n",
    "else:\n",
    "    print(\"For completo com sucesso!\")"
   ]
  },
  {
   "cell_type": "markdown",
   "metadata": {},
   "source": [
    "#### Tipo list - introdução ás listas mutáveis em Python"
   ]
  },
  {
   "cell_type": "code",
   "execution_count": null,
   "metadata": {},
   "outputs": [],
   "source": [
    "# Listas em Python\n",
    "# Tipo list - Mutável\n",
    "# Suporta vários valores de qualquer tipo\n",
    "# Conhecimentos reutilizáveis - índices e fatiamento\n",
    "# Métodos úteis: append, insert, pop, del, clear, extend, +\n",
    "\n",
    "#        +01234\n",
    "#        -54321\n",
    "string = \"ABCDE\" # 5 caracteres (len)\n",
    "# print(bool([])) falsy\n",
    "# print(lista, type(lista))\n",
    "\n",
    "#        0    1     2              3    4\n",
    "lista = [123, True, \"Luiz Otávio\", 1.2, []]\n",
    "lista[-3] = \"Maria\"\n",
    "print(lista)\n",
    "print(lista[2], type(lista[2]))"
   ]
  },
  {
   "cell_type": "code",
   "execution_count": null,
   "metadata": {},
   "outputs": [],
   "source": [
    "# Create Read Update   Delete\n",
    "# Criar, ler, alterar, apagar = lista[i] (CRUD)\n",
    "\n",
    "lista = [10, 20, 30, 40]\n",
    "# lista[2] = 300\n",
    "# del lista[2]\n",
    "# print(lista)\n",
    "# print(lista[2])\n",
    "lista.append(50)\n",
    "lista.pop()\n",
    "lista.append(60)\n",
    "lista.append(70)\n",
    "ultimo_valor = lista.pop(3)\n",
    "print(lista, \"Removido\", ultimo_valor)"
   ]
  },
  {
   "cell_type": "code",
   "execution_count": null,
   "metadata": {},
   "outputs": [],
   "source": [
    "# Métodos úteis:\n",
    "#   append - Adiciona um item ao final\n",
    "#   insert - Adiciona um item no índice escolhido\n",
    "#   pop - Remove do final ou do índice escolhido\n",
    "#   del - apaga um índice\n",
    "#   clear - limpa a lista\n",
    "#   extend - estende a lista\n",
    "#   + - concatena listas\n",
    "\n",
    "#        0   1   2   3\n",
    "lista = [10, 20, 30, 40]\n",
    "lista.append(\"Luiz\")\n",
    "nome = lista.pop()\n",
    "lista.append(1233)\n",
    "del lista[-1]\n",
    "# lista.clear()\n",
    "lista.insert(0, 5)\n",
    "print(lista)\n",
    "lista_a = [1, 2, 3]\n",
    "lista_b = [4, 5, 6]\n",
    "lista_c = lista_a + lista_b\n",
    "lista_a.extend(lista_b)\n",
    "print(lista_a)"
   ]
  },
  {
   "cell_type": "code",
   "execution_count": null,
   "metadata": {},
   "outputs": [],
   "source": [
    "# Cuidados com dados mutáveis\n",
    "# = - copiado o valor (imutáveis)\n",
    "# = - aponta para o mesmo valor na memória (mutável)\n",
    "\n",
    "lista_a = [\"Luiz\", \"Maria\", 1, True, 1.2]\n",
    "lista_b = lista_a.copy()\n",
    "\n",
    "lista_a[0] = \"Qualquer coisa\"\n",
    "print(lista_a)\n",
    "print(lista_b)"
   ]
  },
  {
   "cell_type": "code",
   "execution_count": null,
   "metadata": {},
   "outputs": [],
   "source": [
    "# for in com listas\n",
    "lista = [\"Maria\", \"Helena\", \"Luiz\"]\n",
    "\n",
    "for nome in lista:\n",
    "    print(nome, type(nome))"
   ]
  },
  {
   "cell_type": "markdown",
   "metadata": {},
   "source": [
    "#### Introdução ao empacotamento + desempacotamento"
   ]
  },
  {
   "cell_type": "code",
   "execution_count": null,
   "metadata": {},
   "outputs": [],
   "source": [
    "# Introdução ao desempacotamento\n",
    "_, _, nome, *_ = [\"Maria\", \"Helena\", \"Luiz\"]\n",
    "print(nome)"
   ]
  },
  {
   "cell_type": "markdown",
   "metadata": {},
   "source": [
    "#### Tipo tuple (tuplas)"
   ]
  },
  {
   "cell_type": "code",
   "execution_count": null,
   "metadata": {},
   "outputs": [],
   "source": [
    "# Tipo tupla - Uma lista imutável\n",
    "nomes = (\"Maria\", \"Helena\", \"Luiz\")\n",
    "print(nomes)"
   ]
  },
  {
   "cell_type": "markdown",
   "metadata": {},
   "source": [
    "#### enumerate para enumerar valores de iterpaveis (pegar índices)"
   ]
  },
  {
   "cell_type": "code",
   "execution_count": null,
   "metadata": {},
   "outputs": [],
   "source": [
    "# enumerate - enumera iteráveis\n",
    "lista = [\"Maria\", \"Helena\", \"Luiz\"]\n",
    "lista.append(\"João\")\n",
    "\n",
    "for indice, item in enumerate(lista):\n",
    "    print(indice, item)"
   ]
  },
  {
   "cell_type": "markdown",
   "metadata": {},
   "source": [
    "#### Imprecisão dos números de ponto flutuante + round e decimal.Decimal"
   ]
  },
  {
   "cell_type": "code",
   "execution_count": null,
   "metadata": {},
   "outputs": [],
   "source": [
    "# Imprecisão de ponto flutuante\n",
    "# Double-precision floating-point format IEE 754\n",
    "# https://en.wikipedia.org/wiki/Double-precision_floating-point_format\n",
    "# https://docs.python.org/pt-br/3/tutorial/floatingpoint.html\n",
    "\n",
    "import decimal\n",
    "\n",
    "numero_1 = decimal.Decimal('0.1')\n",
    "numero_2 = decimal.Decimal('0.7')\n",
    "numero_3 = numero_1 + numero_2\n",
    "print(numero_3)\n",
    "print(f'{numero_3:.2f}')\n",
    "print(round(numero_3, 2))"
   ]
  },
  {
   "cell_type": "markdown",
   "metadata": {},
   "source": [
    "#### split, join e strip são métodos muitos úteis da str"
   ]
  },
  {
   "cell_type": "code",
   "execution_count": null,
   "metadata": {},
   "outputs": [],
   "source": [
    "# split e join com list e str\n",
    "# split - divide uma string\n",
    "# join - une uma string\n",
    "\n",
    "frase = '   Olha só que   , coisa interessante          '\n",
    "lista_frases_cruas = frase.split(',')\n",
    "\n",
    "lista_frases = []\n",
    "for i, frase in enumerate(lista_frases_cruas):\n",
    "    lista_frases.append(lista_frases_cruas[i].strip())\n",
    "\n",
    "# print(lista_frases_cruas)\n",
    "# print(lista_frases)\n",
    "frases_unidas = ', '.join(lista_frases)\n",
    "print(frases_unidas)"
   ]
  },
  {
   "cell_type": "markdown",
   "metadata": {},
   "source": [
    "#### Listas dentro de listas (iteráveis dentro de iteráveis)"
   ]
  },
  {
   "cell_type": "code",
   "execution_count": null,
   "metadata": {},
   "outputs": [],
   "source": [
    "# Lista de listas e seus índices\n",
    "\n",
    "salas = [\n",
    "    # 0        1\n",
    "    ['Maria', 'Helena', ],  # 0\n",
    "    # 0\n",
    "    ['Elaine', ],  # 1\n",
    "    # 0       1       2\n",
    "    ['Luiz', 'João', 'Eduarda', ],  # 2\n",
    "]\n",
    "\n",
    "# print(salas[1][0])\n",
    "# print(salas[0][1])\n",
    "# print(salas[2][2])\n",
    "# print(salas[2][3][3])\n",
    "\n",
    "for sala in salas:\n",
    "    print(f\"A sala é {sala}\")\n",
    "    for aluno in sala:\n",
    "        print(aluno)\n"
   ]
  },
  {
   "cell_type": "markdown",
   "metadata": {},
   "source": [
    "#### Detalhes sobre o interpretador Python"
   ]
  },
  {
   "cell_type": "code",
   "execution_count": null,
   "metadata": {},
   "outputs": [],
   "source": [
    "\"\"\"\n",
    "Interpretador do Python\n",
    "\n",
    "python mod.py (executa o mod)\n",
    "python -u (unbuffered)\n",
    "python -m mod (lib mod como script)\n",
    "python -c 'cmd' (comando)\n",
    "python -i mod.py (interativo com mod)\n",
    "\n",
    "The Zen of Python, por Tim Peters\n",
    "\n",
    "Bonito é melhor que feio.\n",
    "Explícito é melhor que implícito.\n",
    "Simples é melhor que complexo.\n",
    "Complexo é melhor que complicado.\n",
    "Plano é melhor que aglomerado.\n",
    "Esparso é melhor que denso.\n",
    "Legibilidade conta.\n",
    "Casos especiais não são especiais o bastante para quebrar as regras.\n",
    "Embora a praticidade vença a pureza.\n",
    "Erros nunca devem passar silenciosamente.\n",
    "A menos que sejam explicitamente silenciados.\n",
    "Diante da ambiguidade, recuse a tentação de adivinhar.\n",
    "Deve haver um -- e só um -- modo óbvio para fazer algo.\n",
    "Embora esse modo possa não ser óbvio à primeira vista a menos que você seja holandês.\n",
    "Agora é melhor que nunca.\n",
    "Embora nunca frequentemente seja melhor que *exatamente* agora.\n",
    "Se a implementação é difícil de explicar, é uma má ideia.\n",
    "Se a implementação é fácil de explicar, pode ser uma boa ideia.\n",
    "Namespaces são uma grande ideia -- vamos fazer mais dessas!\n",
    "\"\"\""
   ]
  },
  {
   "cell_type": "markdown",
   "metadata": {},
   "source": [
    "#### Desempacotamento em chamadas de funções"
   ]
  },
  {
   "cell_type": "code",
   "execution_count": null,
   "metadata": {},
   "outputs": [],
   "source": [
    "# Desempacotamento em chamadas de métodos e funções\n",
    "\n",
    "string = \"ABCD\"\n",
    "lista = [\"Maria\", \"Helena\", 1, 2, 3, \"Eduarda\"]\n",
    "tupla = \"Python\", \"é\", \"legal\"\n",
    "salas = [\n",
    "    # 0        1\n",
    "    [\"Maria\", \"Helena\", ],  # 0\n",
    "    # 0\n",
    "    [\"Elaine\", ],  # 1\n",
    "    # 0       1       2\n",
    "    [\"Luiz\", \"João\", \"Eduarda\", ],  # 2\n",
    "]\n",
    "\n",
    "# p, b, *_, ap, u = lista\n",
    "# print(p, u, ap)\n",
    "\n",
    "# print(\"Maria\", \"Helena\", 1, 2, 3, \"Eduarda\")\n",
    "# print(*lista)\n",
    "# print(*string)\n",
    "# print(*tupla)\n",
    "\n",
    "print(*salas, sep=\"\\n\")"
   ]
  },
  {
   "cell_type": "markdown",
   "metadata": {},
   "source": [
    "#### Operação ternária com Python (if e else de uma linha)"
   ]
  },
  {
   "cell_type": "code",
   "execution_count": null,
   "metadata": {},
   "outputs": [],
   "source": [
    "# Operação ternária (condicional de uma linha)\n",
    "# <valor> if <condicao> else <outro valor>\n",
    "\n",
    "# condicao = 10 == 10\n",
    "# variavel = \"Valor\" if condicao else \"Outro Valor\"\n",
    "# print(variavel)\n",
    "\n",
    "digito = 9 # > 9 = 0\n",
    "# novo_digito = digito if digito <= 9 else 0\n",
    "novo_digito = 0 if digito > 9 else digito\n",
    "print(novo_digito)"
   ]
  }
 ],
 "metadata": {
  "kernelspec": {
   "display_name": "Python 3",
   "language": "python",
   "name": "python3"
  },
  "language_info": {
   "codemirror_mode": {
    "name": "ipython",
    "version": 3
   },
   "file_extension": ".py",
   "mimetype": "text/x-python",
   "name": "python",
   "nbconvert_exporter": "python",
   "pygments_lexer": "ipython3",
   "version": "3.11.2"
  },
  "orig_nbformat": 4
 },
 "nbformat": 4,
 "nbformat_minor": 2
}
