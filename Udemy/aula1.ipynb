{
 "cells": [
  {
   "attachments": {},
   "cell_type": "markdown",
   "metadata": {},
   "source": [
    "### PRINT"
   ]
  },
  {
   "cell_type": "code",
   "execution_count": null,
   "metadata": {},
   "outputs": [],
   "source": [
    "#  Permite escrever um comentário\n",
    "print(12, 34, sep=\".\")\n",
    "print(56, 78, sep='.')"
   ]
  },
  {
   "attachments": {},
   "cell_type": "markdown",
   "metadata": {},
   "source": [
    "### STRING"
   ]
  },
  {
   "cell_type": "code",
   "execution_count": null,
   "metadata": {},
   "outputs": [],
   "source": [
    "\"\"\"\n",
    "Python = Linguagem de programação\n",
    "Tipo de tipagem = Dinâmica / Forte\n",
    "str -> string -> texto\n",
    "Strings são textos que estão dentro de aspas\n",
    "\"\"\"\n",
    "\n",
    "# Aspas simples\n",
    "print('Bernardo Vieira')\n",
    "print('Bernardo \"Vieira\"')\n",
    "\n",
    "\n",
    "# Aspas duplas\n",
    "print(\"Bernardo Vieira\")\n",
    "print(\"Bernardo 'Vieira'\")\n",
    "\n",
    "# Escape\n",
    "print(\"Bernardo \\\"Vieira\\\"\")\n",
    "\n",
    "# r\n",
    "print(r\"Bernardo \\\"Vieira\\\"\")"
   ]
  },
  {
   "attachments": {},
   "cell_type": "markdown",
   "metadata": {},
   "source": [
    "### INTEIRO"
   ]
  },
  {
   "cell_type": "code",
   "execution_count": null,
   "metadata": {},
   "outputs": [],
   "source": [
    "# int -> Número inteiro\n",
    "# O tipo int representa qualquer número\n",
    "# positivo ou negativo. int sem sinal é considerado positivo.\n",
    "print(11) # int\n",
    "print(-11) # int\n",
    "print(0) # int"
   ]
  },
  {
   "attachments": {},
   "cell_type": "markdown",
   "metadata": {},
   "source": [
    "### FLOAT"
   ]
  },
  {
   "cell_type": "code",
   "execution_count": null,
   "metadata": {},
   "outputs": [],
   "source": [
    "# float -> Número com ponto flutuante\n",
    "# O tipo float representa qualquer número positivo ou negativo com ponto flutuante.\n",
    "# float sem sinal é considerado positivo.\n",
    "print(1.1) # float\n",
    "print(0.0) # float\n",
    "print(-1.5) # float"
   ]
  },
  {
   "attachments": {},
   "cell_type": "markdown",
   "metadata": {},
   "source": [
    "### BOOLEAN"
   ]
  },
  {
   "cell_type": "code",
   "execution_count": null,
   "metadata": {},
   "outputs": [],
   "source": [
    "# Tipo de dado bool\n",
    "# Ao questionar algo em um programa, só existem duas respostas possíveis: sim (True) ou não (False).\n",
    "# Existem vários operadores para \"questionar\".\n",
    "# Dentre eles o ==, que é um operador lógico que questiona se um valor é igual a outro.\n",
    "print(10 == 10) # Sim -> True (Verdadeiro)\n",
    "print(10 == 11) # Não -> False (Falso)"
   ]
  },
  {
   "attachments": {},
   "cell_type": "markdown",
   "metadata": {},
   "source": [
    "### TYPE"
   ]
  },
  {
   "cell_type": "code",
   "execution_count": null,
   "metadata": {},
   "outputs": [],
   "source": [
    "# A função type mostra o tipo que o Python inferiu ao valor.\n",
    "print(type(\"Otávio\")) # str\n",
    "print(type(1)) # int\n",
    "print(type(1.1)) # float\n",
    "print(type(True)) # bool"
   ]
  },
  {
   "attachments": {},
   "cell_type": "markdown",
   "metadata": {},
   "source": [
    "### CONVERSÃO DE TIPOS"
   ]
  },
  {
   "cell_type": "code",
   "execution_count": null,
   "metadata": {},
   "outputs": [],
   "source": [
    "# Conversão de tipos, coerção\n",
    "# type convertion, typecasting, coercion é o ato de converter um tipo em outro\n",
    "# tipos imutáveis e primitivos:\n",
    "# str, int, float, bool\n",
    "print(int(\"1\"), type(int(\"1\")))"
   ]
  },
  {
   "attachments": {},
   "cell_type": "markdown",
   "metadata": {},
   "source": [
    "### VARIÁVEIS"
   ]
  },
  {
   "cell_type": "code",
   "execution_count": null,
   "metadata": {},
   "outputs": [],
   "source": [
    "# Variáveis são usadas para salvar algo na memória do computdaor.\n",
    "# PEP8: inicie variáveis com letras minúsculas, pode usar números e underline.\n",
    "# O sinal de = é o operador de atribuição. Ele é usado para atribuir um valor a um nome (variável).\n",
    "# Uso: nome_variavel (snake_case) = expressão\n",
    "nome_completo = \"Bernardo Vieira\"\n",
    "soma_dois_mais_dois = 2 + 2\n",
    "print(nome_completo) # Bernardo Vieira\n",
    "print(soma_dois_mais_dois) # 4\n",
    "\n",
    "# Variáveis são utilizadas para deixar o código mais legível e para não repetir coisas.\n",
    "int_um = int(\"1\")\n",
    "print(int_um, type(int_um))\n",
    "\n",
    "nome = \"Bernardo\"\n",
    "idade = 21\n",
    "maior_de_idade = idade >= 18"
   ]
  },
  {
   "attachments": {},
   "cell_type": "markdown",
   "metadata": {},
   "source": [
    "### OPERADORES ARITMÉTICOS"
   ]
  },
  {
   "cell_type": "code",
   "execution_count": null,
   "metadata": {},
   "outputs": [],
   "source": [
    "adicao = 10 + 10\n",
    "print(\"Adição\", adicao)\n",
    "\n",
    "subtracao = 10 - 5\n",
    "print(\"Subtração\", subtracao)\n",
    "\n",
    "multiplicacao = 10 * 10\n",
    "print(\"Multiplicação\", multiplicacao)\n",
    "\n",
    "divisão = 10 / 2.2  # Float\n",
    "print(\"Divisão\", divisão)\n",
    "\n",
    "divisao_inteira = 10 // 2.2\n",
    "print(\"Divisão inteira\", divisao_inteira)\n",
    "\n",
    "exponenciacao = 2 ** 10\n",
    "print(\"Exponenciação\", exponenciacao)\n",
    "\n",
    "modulo = 55 % 2  # Resto da divisão\n",
    "print(\"Modúlo\", modulo)"
   ]
  },
  {
   "attachments": {},
   "cell_type": "markdown",
   "metadata": {},
   "source": [
    "### CONCATENAÇÃO E REPETIÇÃO COM OPERADORES ARITMÉTICOS"
   ]
  },
  {
   "cell_type": "code",
   "execution_count": null,
   "metadata": {},
   "outputs": [],
   "source": [
    "concatenacao = \"A\" + \"B\" + \"C\"\n",
    "print(concatenacao)\n",
    "\n",
    "a_dez_vezes = \"A\" * 10\n",
    "tres_vezes_luiz = 3 * \"Luiz\"\n",
    "print(a_dez_vezes)\n",
    "print(tres_vezes_luiz)"
   ]
  },
  {
   "attachments": {},
   "cell_type": "markdown",
   "metadata": {},
   "source": [
    "### PRECEDÊNCIA ENTRE OS OPERADORES ARITMÉTICOS"
   ]
  },
  {
   "cell_type": "code",
   "execution_count": null,
   "metadata": {},
   "outputs": [],
   "source": [
    "# 1. (n + n)\n",
    "# 2. **\n",
    "# 3. * / // %\n",
    "# 4. + -\n",
    "\n",
    "conta_1 = (1 + 1) ** (5 + 5)\n",
    "print(conta_1)"
   ]
  },
  {
   "cell_type": "markdown",
   "metadata": {},
   "source": [
    "### F-STRINGS"
   ]
  },
  {
   "cell_type": "code",
   "execution_count": null,
   "metadata": {},
   "outputs": [],
   "source": [
    "nome = \"Bernardo\"\n",
    "altura = 1.72\n",
    "dinheiro = 10450\n",
    "\n",
    "linha_1 = f\"{nome} tem {altura} de altura\"\n",
    "linha_2 = f\"e possui {dinheiro:,.2f} na carteira\"\n",
    "print(linha_1)\n",
    "print(linha_2)"
   ]
  },
  {
   "cell_type": "markdown",
   "metadata": {},
   "source": [
    "### FORMAT STRINGS"
   ]
  },
  {
   "cell_type": "code",
   "execution_count": null,
   "metadata": {},
   "outputs": [],
   "source": [
    "a = \"A\"\n",
    "b = \"B\"\n",
    "c = \"C\"\n",
    "d = 1.1\n",
    "formato = \"a={} b={} c={} d={:.2f}\".format(a, b, c, d)\n",
    "formato = \"a={} b={} c={} d={numero1:.2f}\".format(nome1=a, nome2=b, nome3=c, numero1=d) # Parâmetros nomeados\n",
    "\n",
    "print(formato)"
   ]
  },
  {
   "cell_type": "markdown",
   "metadata": {},
   "source": [
    "### INPUT"
   ]
  },
  {
   "cell_type": "code",
   "execution_count": null,
   "metadata": {},
   "outputs": [],
   "source": [
    "nome = input(\"Qual o seu nome? \")\n",
    "print(f\"O seu nome é {nome}\")\n",
    "\n",
    "numero_1 = int(input(\"Digite um número: \"))\n",
    "numero_2 = int(input(\"Digite outro número: \"))\n",
    "\n",
    "print(f\"A soma dos números é: {numero_1 + numero_2}\")"
   ]
  },
  {
   "cell_type": "markdown",
   "metadata": {},
   "source": [
    "### IF / ELIF / ELSE"
   ]
  },
  {
   "cell_type": "code",
   "execution_count": null,
   "metadata": {},
   "outputs": [],
   "source": [
    "# if / elif      / else\n",
    "# se / se não se / se não\n",
    "entrada = input(\"Você quer 'entrar' ou 'sair'? \")\n",
    "\n",
    "if entrada == \"entrar\":\n",
    "    print(\"Você entrou no sistema\")\n",
    "\n",
    "elif entrada == \"sair\":\n",
    "    print(\"Você saiu do sistema\")\n",
    "\n",
    "else:\n",
    "    print(\"Você não digitou nem entrar e nem sair.\")\n",
    "\n",
    "\n",
    "condicao1 = False\n",
    "condicao2 = False\n",
    "condicao3 = True\n",
    "condicao4 = True\n",
    "\n",
    "if condicao1:\n",
    "    print(\"Código para condição 1\")\n",
    "\n",
    "elif condicao2:\n",
    "    print(\"Código para condição 2\")\n",
    "\n",
    "elif condicao3:\n",
    "    print(\"Código para condição 3\")\n",
    "\n",
    "elif condicao4:\n",
    "    print(\"Código para condição 4\")\n",
    "     \n",
    "else:\n",
    "    print(\"Nenhuma condiçao foi satisfeita.\")\n",
    "\n",
    "if 10 == 10:\n",
    "    print(\"Outro if\")\n",
    "\n",
    "print(\"Fora do if\")"
   ]
  },
  {
   "cell_type": "markdown",
   "metadata": {},
   "source": [
    "#### Operadores de comparação (relacionais)"
   ]
  },
  {
   "cell_type": "code",
   "execution_count": null,
   "metadata": {},
   "outputs": [],
   "source": [
    "# OP    Significado          Exemplo (True)\n",
    "# >     maior                2 > 1\n",
    "# >=    maior ou igual       2 >= 1\n",
    "# <     menor                1 < 2\n",
    "# <=    menor ou igual       2 <= 2\n",
    "# ==    igual                \"a\" == \"a\"\n",
    "# !=    diferente            \"a\" != \"b\"\n",
    "\n",
    "maior = 2 > 1\n",
    "maior_ou_igual = 2 >= 2\n",
    "menor = 1 < 2\n",
    "menor_ou_igual = 2 <= 2\n",
    "igual = \"a\" == \"a\"\n",
    "diferente = \"a\" != \"b\"\n",
    "print(diferente)"
   ]
  },
  {
   "cell_type": "markdown",
   "metadata": {},
   "source": [
    "### Operadores lógicos\n",
    "#### and (e) or (ou) not (não)"
   ]
  },
  {
   "cell_type": "code",
   "execution_count": null,
   "metadata": {},
   "outputs": [],
   "source": [
    "# and - Todas as condições precisam ser verdadeiras.\n",
    "# Se qualquer valor for considerador falso, a expressão inteira será avaliada naquele valor.\n",
    "# São considerados falsy:\n",
    "# 0 0.0 \"\" False\n",
    "# Também existe o tipo None que é usado para representar um não valor.\n",
    "\n",
    "user_input = input(\"[E]ntrar [S]air: \")\n",
    "password = input(\"Senha: \")\n",
    "\n",
    "password_allowed = \"123456\"\n",
    "\n",
    "if entrada == \"E\" and password == password_allowed:\n",
    "    print(\"Entrar\")\n",
    "else:\n",
    "    print(\"Sair\")\n",
    "\n",
    "# Avaliação de curto circuito\n",
    "print(True and False and True)"
   ]
  }
 ],
 "metadata": {
  "kernelspec": {
   "display_name": "Python 3",
   "language": "python",
   "name": "python3"
  },
  "language_info": {
   "codemirror_mode": {
    "name": "ipython",
    "version": 3
   },
   "file_extension": ".py",
   "mimetype": "text/x-python",
   "name": "python",
   "nbconvert_exporter": "python",
   "pygments_lexer": "ipython3",
   "version": "3.10.10"
  },
  "orig_nbformat": 4
 },
 "nbformat": 4,
 "nbformat_minor": 2
}
