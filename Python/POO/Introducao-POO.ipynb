{
 "cells": [
  {
   "cell_type": "markdown",
   "metadata": {},
   "source": [
    "### Paradigmas de programação\n",
    "\n",
    "Um paradigma de programação é um estilo de programação. Não é uma linguagem, e sim a forma como você soluciona os problemas através do código.\n",
    "\n",
    "### Programação orientada a objetos\n",
    "\n",
    "O paradigma de programação orientada a objetos estrutura o código abstraindo problemas em objetos do mundo real, facilitando o entendimento do código e tornando-o mais modular e extensível. Os dois conceitos chaves para aprender POO são: classes e objetos.\n",
    "\n",
    "### Classes e objetos?\n",
    "\n",
    "Uma classe define as características e comportamentos de um objeto, porém não conseguimos usá-las diretamente. Já os objetos podemos usá-los e eles possuem as características e comportamentos que foram definidos nas classe.\n",
    "\n",
    "### Nosso primeiro programa POO\n",
    "\n",
    "João tem uma bicicleta e gostaria de registrar as vendas de suas bicicletas. Crie um programa onde João informe: cor, modelo, ano e valor da bicicleta vendida. Uma bicicleta pode: buzinar, parar e correr. Adicione esses comportamentos!"
   ]
  },
  {
   "cell_type": "code",
   "execution_count": null,
   "metadata": {},
   "outputs": [],
   "source": [
    "class Bicicleta:\n",
    "    def __init__(self, cor, modelo, ano, valor) -> None:\n",
    "        self.cor = cor\n",
    "        self.modelo = modelo\n",
    "        self.ano = ano\n",
    "        self.valor = valor\n",
    "    \n",
    "    def buzinar(self):\n",
    "        print(\"Plim plim...\")\n",
    "    \n",
    "    def parar(self):\n",
    "        print(\"Parando bicicleta...\")\n",
    "        print(\"Bicicleta parada!\")\n",
    "        \n",
    "    def correr(self):\n",
    "        print(\"Vrummmm...\")\n",
    "    \n",
    "    def __str__(self) -> str:\n",
    "        return f\"{self.__class__.__name__}: {', '.join([f'{chave}={valor}' for chave, valor in self.__dict__.items()])}\""
   ]
  },
  {
   "cell_type": "markdown",
   "metadata": {},
   "source": [
    "## Construtores e Destrutores\n",
    "\n",
    "### Método construtor\n",
    "\n",
    "O método construtor sempre é executado quando uma nova instância da classe é criada. Nesse método inicializamos o estado do nosso objeto. Para declarar o método construtor da classe, criamos o método com o nome __init__.\n",
    "\n",
    "### Método destrutor\n",
    "\n",
    "O método destrutor sempre é executador quando uma instância (objeto) é destruída. Destrutores em Python não são tão necessários quanto em C++ porque o Python tem um coletor de lixo que lida com o gerenciamento de memóra automaticamente. Para declarar o método destrutor da classe, criamos um método com o nome __del__."
   ]
  },
  {
   "cell_type": "code",
   "execution_count": null,
   "metadata": {},
   "outputs": [],
   "source": [
    "class Cachorro:\n",
    "    def __init__(self, nome, cor, acordado=True) -> None:\n",
    "        self.nome = nome\n",
    "        self.cor = cor\n",
    "        self.acordado = acordado\n",
    "    \n",
    "    def __del__(self):\n",
    "        print(\"Removendo a instância da classe.\")\n",
    "    \n",
    "    def falar(self):\n",
    "        print(\"auau\")\n",
    "\n",
    "c = Cachorro(\"Chapie\", \"amarelo\")\n",
    "c.falar()"
   ]
  }
 ],
 "metadata": {
  "kernelspec": {
   "display_name": "Python 3",
   "language": "python",
   "name": "python3"
  },
  "language_info": {
   "codemirror_mode": {
    "name": "ipython",
    "version": 3
   },
   "file_extension": ".py",
   "mimetype": "text/x-python",
   "name": "python",
   "nbconvert_exporter": "python",
   "pygments_lexer": "ipython3",
   "version": "3.11.2"
  }
 },
 "nbformat": 4,
 "nbformat_minor": 2
}
