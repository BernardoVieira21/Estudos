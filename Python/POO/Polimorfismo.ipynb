{
 "cells": [
  {
   "cell_type": "markdown",
   "metadata": {},
   "source": [
    "### Polimorfismo\n",
    "\n",
    "#### O que é Polimorfismo?\n",
    "A palavra polimorfismo significa ter muitas formas. Na programação, polimorfismo significa o mesmo nome de função (mas assinaturas diferentes) sendo usado para tipos diferentes.\n",
    "\n",
    "### Polimorfismo com herança\n",
    "\n",
    "#### Mesmo método com comportamento diferente\n",
    "Na herança, a classe filha herda os métodos da classe pai. No entanto, é possível modificar um método em uma classe filha herdada da classe pai. Isso é particularmente útil nos casos em que o método herdado da classe pai não se encaixa perfeitamente na classe filha."
   ]
  },
  {
   "cell_type": "code",
   "execution_count": null,
   "metadata": {},
   "outputs": [],
   "source": [
    "class Passaro:\n",
    "    def voar(self): pass\n",
    "\n",
    "class Pardal(Passaro):\n",
    "    def voar(self):\n",
    "        print(\"Pardal voa\")\n",
    "\n",
    "class Avestruz(Passaro):\n",
    "    def voar(self):\n",
    "        print(\"Avestruz não voa\")\n",
    "\n",
    "def plano_de_voo(passaro):\n",
    "    passaro.voar()"
   ]
  }
 ],
 "metadata": {
  "language_info": {
   "name": "python"
  }
 },
 "nbformat": 4,
 "nbformat_minor": 2
}
