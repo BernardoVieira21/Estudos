{
 "cells": [
  {
   "cell_type": "markdown",
   "metadata": {},
   "source": [
    "### O que é encapsulamento?\n",
    "\n",
    "#### Proteção de acesso\n",
    "O encapsulamento é um dos conceitos fundamentais em programação orientada a objetos. Ele descreve a ideia de agrupar dados e os métodos que manipulam esses dados em uma unidade. Isso impõe restrições ao acesso direto a variáveis e métodos e pode evitar a modificação acidental de dados.\n",
    "Para evitar alterações acidentais, a variável de um objeto só pode ser alterada pelo método desse objeto.\n",
    "\n",
    "### Recursos Públicos e Privados\n",
    "\n",
    "#### Definição\n",
    "- Público: Pode ser acessado de fora da classe.\n",
    "- Privado: Só pode ser acessado pela classe.\n",
    "\n",
    "#### Público/Privado\n",
    "Todos os recursos são públicos, a menos que o nome inicie com underline. Ou seja, o interpretador Python não irá garantir a proteção do recurso, mas por ser uma convenção amplamente adotada na comunidade, quando encontramos uma variável e/ou método com nome iniciado por underline, sabemos que não deveríamos manipular o seu valor diretamente, ou invocar o método fora do escopo da classe."
   ]
  },
  {
   "cell_type": "code",
   "execution_count": null,
   "metadata": {},
   "outputs": [],
   "source": [
    "class Conta:\n",
    "    def __init__(self, nro_agencia, saldo = 0) -> None:\n",
    "        self._saldo = saldo\n",
    "        self.nro_agencia = nro_agencia\n",
    "\n",
    "    def depositar(self, valor):\n",
    "        self._saldo += valor\n",
    "\n",
    "    def sacar(self, valor):\n",
    "        self._saldo -= valor\n",
    "    \n",
    "    def mostrar_saldo(self):\n",
    "        return self._saldo"
   ]
  },
  {
   "cell_type": "markdown",
   "metadata": {},
   "source": [
    "### Propriedades\n",
    "\n",
    "#### Para que servem?\n",
    "\n",
    "Com o property() do Python, você pode criar atributos gerenciados em suas classes. Você pode usar atributos gerenciados, também conhecidos como propriedades, quando precisar modificar sua implementação interna sem alterar a API pública da classe."
   ]
  },
  {
   "cell_type": "code",
   "execution_count": null,
   "metadata": {},
   "outputs": [],
   "source": [
    "class Foo:\n",
    "    def __init__(self, x = None) -> None:\n",
    "        self._x = x\n",
    "    \n",
    "    @property\n",
    "    def x(self):\n",
    "        return self._x or 0\n",
    "    \n",
    "    @x.setter\n",
    "    def x(self, value):\n",
    "        _x = self._x or 0\n",
    "        _value = value or 0\n",
    "        self._x = _x + _value\n",
    "\n",
    "    @x.deleter\n",
    "    def x(self):\n",
    "        self._x = 0"
   ]
  }
 ],
 "metadata": {
  "language_info": {
   "name": "python"
  }
 },
 "nbformat": 4,
 "nbformat_minor": 2
}
