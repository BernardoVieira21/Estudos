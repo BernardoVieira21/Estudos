{
 "cells": [
  {
   "cell_type": "markdown",
   "metadata": {},
   "source": [
    "### O que é herança?\n",
    "\n",
    "Em programação herança é a capacidade de uma classe filha derivar ou herdar as características e comportamentos da classe pai (base).\n",
    "\n",
    "### Benefícios da Herança\n",
    "\n",
    "- Representa bem os relacionamentos do mundo real.\n",
    "- *Fornece reutilização de código, não precisamos escrever o mesmo código repetidamente. Além disso, permite adicionar mais recursos a uma classe sem modificá-la.\n",
    "- *É de natureza transitiva, o que significa que, se a classe B herdar da classe A, todas as subclasses de B herdarão automaticamente da classe A.\n",
    "\n",
    "### Herança simples\n",
    "\n",
    "Quando uma classe filha herda apenas uma classe pai, ela é chamada de herança simples.\n",
    "\n",
    "### Herança múltipla\n",
    "\n",
    "Quando uma classe filha herda de várias classes pai, ela é chamada de herança múltipla."
   ]
  }
 ],
 "metadata": {
  "kernelspec": {
   "display_name": "Python 3",
   "language": "python",
   "name": "python3"
  },
  "language_info": {
   "codemirror_mode": {
    "name": "ipython",
    "version": 3
   },
   "file_extension": ".py",
   "mimetype": "text/x-python",
   "name": "python",
   "nbconvert_exporter": "python",
   "pygments_lexer": "ipython3",
   "version": "3.11.2"
  }
 },
 "nbformat": 4,
 "nbformat_minor": 2
}
