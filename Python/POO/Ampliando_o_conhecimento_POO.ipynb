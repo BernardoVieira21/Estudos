{
 "cells": [
  {
   "cell_type": "markdown",
   "metadata": {},
   "source": [
    "### Variáveis de classe e variáveis de instância\n",
    "\n",
    "#### Atributos do objeto\n",
    "Todos os objetos nascem com o mesmo número de atributos de classe e de instância. Atributos de instância são diferentes para cada objeto (cada objeto tem uma cópia), já os atributos de classe são compartilhados entre os objetos."
   ]
  },
  {
   "cell_type": "code",
   "execution_count": null,
   "metadata": {},
   "outputs": [
    {
     "data": {
      "text/plain": [
       "'Ber (19) - DIO'"
      ]
     },
     "execution_count": 8,
     "metadata": {},
     "output_type": "execute_result"
    }
   ],
   "source": [
    "class Estudante:\n",
    "    escola = \"DIO\"\n",
    "\n",
    "    def __init__(self, nome, numero) -> None:\n",
    "        self.nome = nome\n",
    "        self.numero = numero\n",
    "\n",
    "    def __str__(self) -> str:\n",
    "        return f\"{self.nome} ({self.numero}) - {self.escola}\""
   ]
  },
  {
   "cell_type": "markdown",
   "metadata": {},
   "source": [
    "### Métodos de classe e métodos estáticos\n",
    "\n",
    "#### Métodos de classe\n",
    "Métodos de classe estão ligados à classe e não ao objeto. Eles têm acesso ao estado da classe, pois recebem um parâmetro que aponta para a classe e não para a instância do objeto.\n",
    "\n",
    "#### Métodos estáticos\n",
    "Um método estático não recebe um primeiro argumento explícito. Ele também é um método vinculado à classe e não ao objeto da classe. Este método não pode acessar ou modificar o estado da classe. Ele está presente em uma classe porque faz sentido que o método esteja presente na classe.\n",
    "\n",
    "#### Métodos de classe x Métodos estáticos\n",
    "- Um método de classe recebe um primeiro parâmetro que aponta para a classe, enquanto um método estático não.\n",
    "- Um método de classe pode acessar ou modificar o estado da classe enquanto um método estático não pode acessá-lo ou modificá-lo\n",
    "\n",
    "#### Quando utilizar método de classe ou estático\n",
    "- Geralmente usamos o método de classe para criar métodos de fábrica.\n",
    "- Geralmente usamos métodos estáticos para criar funções utilitárias."
   ]
  },
  {
   "cell_type": "code",
   "execution_count": 1,
   "metadata": {},
   "outputs": [],
   "source": [
    "class Pessoa:\n",
    "    def __init__(self, nome=None, idade=None) -> None:\n",
    "        self.nome = nome\n",
    "        self.idade = idade\n",
    "\n",
    "    @classmethod\n",
    "    def criar_de_data_nascimento(cls, ano, mes, dia, nome):\n",
    "        idade = 2025 - ano\n",
    "        return cls(nome, idade)\n",
    "    \n",
    "    @staticmethod\n",
    "    def e_maior_idade(idade):\n",
    "        return idade >= 18"
   ]
  },
  {
   "cell_type": "markdown",
   "metadata": {},
   "source": [
    "### Classes abstratas\n",
    "\n",
    "#### O que são interfaces?\n",
    "\n",
    "##### Importante!\n",
    "Interfaces definem o que uma classe deve fazer e não como.\n",
    "\n",
    "#### Python tem interface?\n",
    "O conceito de interface é definir um contrato, onde são declarados os métodos (o que deve ser feito) e suas respectivas assinaturas. Em Python utilizamos classes abstratas para criar contratos. Classes abstratas não podem ser instanciadas.\n",
    "\n",
    "#### Criando classes abstratas com o módulo abc\n",
    "##### ABC\n",
    "Por padrão, o Python não fornece classes abstratas. O Python vem com um módulo que fornece a base para definir as classes abstratas, e o nome do módulo é ABC. O ABC funciona decorando métodos da classe base como abstratos e, em seguida, registrando classes concretas como implementações da base abstrata. Um método se torna abstrato quando é decorado com o @abstractmethod."
   ]
  },
  {
   "cell_type": "code",
   "execution_count": null,
   "metadata": {},
   "outputs": [],
   "source": [
    "from abc import ABC, abstractmethod, abstractproperty\n",
    "\n",
    "class ControleRemoto(ABC):\n",
    "    @abstractmethod\n",
    "    def ligar(self):\n",
    "        pass\n",
    "    \n",
    "    @abstractmethod\n",
    "    def desligar(self):\n",
    "        pass\n",
    "    \n",
    "    @property\n",
    "    @abstractproperty\n",
    "    def marca(self):\n",
    "        pass\n",
    "\n",
    "class ControleTV(ControleRemoto):\n",
    "    def ligar(self):\n",
    "        print(\"Ligando a TV...\")\n",
    "        print(\"Ligado!\")\n",
    "\n",
    "    def desligar(self):\n",
    "        print(\"Desligando a TV...\")\n",
    "        print(\"Desligado!\")\n",
    "    \n",
    "    @property\n",
    "    def marca(self):\n",
    "        return \"LG\"\n",
    "\n",
    "class ControleArCondicionado(ControleRemoto):\n",
    "    def ligar(self):\n",
    "        print(\"Ligando o Ar Condicionado...\")\n",
    "        print(\"Ligado!\")\n",
    "\n",
    "    def desligar(self):\n",
    "        print(\"Desligando o Ar Condicionado...\")\n",
    "        print(\"Desligado!\")\n",
    "    \n",
    "    @property\n",
    "    def marca(self):\n",
    "        return \"LG\"\n",
    "\n",
    "controle = ControleTV()\n",
    "controle.ligar()\n",
    "controle.desligar()"
   ]
  }
 ],
 "metadata": {
  "kernelspec": {
   "display_name": "Python 3",
   "language": "python",
   "name": "python3"
  },
  "language_info": {
   "codemirror_mode": {
    "name": "ipython",
    "version": 3
   },
   "file_extension": ".py",
   "mimetype": "text/x-python",
   "name": "python",
   "nbconvert_exporter": "python",
   "pygments_lexer": "ipython3",
   "version": "3.11.2"
  }
 },
 "nbformat": 4,
 "nbformat_minor": 2
}
