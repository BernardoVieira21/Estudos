{
 "cells": [
  {
   "cell_type": "markdown",
   "metadata": {},
   "source": [
    "#### Decoradores\n",
    "##### Inner functions\n",
    "É possível definir funções dentro de outras funções. Tais funções são chamadas de funções internas."
   ]
  },
  {
   "cell_type": "code",
   "execution_count": null,
   "metadata": {},
   "outputs": [],
   "source": [
    "def mensagem(nome):\n",
    "    print(\"Executando mensagem\")\n",
    "    return f\"Oi {nome}\"\n",
    "\n",
    "def mensagem_longa(nome):\n",
    "    print(\"executando mensagem longa\")\n",
    "    return f\"Olá tudo bem com você {nome}?\"\n",
    "\n",
    "def executar(funcao, nome):\n",
    "    print(\"executando executar\")\n",
    "    return funcao(nome)\n",
    "\n",
    "executar(mensagem, \"João\")\n",
    "executar(mensagem_longa, \"João\")"
   ]
  },
  {
   "cell_type": "code",
   "execution_count": null,
   "metadata": {},
   "outputs": [],
   "source": [
    "def principal():\n",
    "    print(\"executando a função principal\")\n",
    "\n",
    "    def funcao_interna():\n",
    "        print(\"executando a função interna\")\n",
    "\n",
    "    def funcao_2():\n",
    "        print(\"executando a função 2\")\n",
    "\n",
    "    funcao_interna()\n",
    "    funcao_2()\n",
    "\n",
    "principal()"
   ]
  },
  {
   "cell_type": "code",
   "execution_count": null,
   "metadata": {},
   "outputs": [],
   "source": [
    "def calculadora(operacao):\n",
    "    def soma(a, b):\n",
    "        return a + b\n",
    "\n",
    "    def sub(a, b):\n",
    "        return a - b\n",
    "    \n",
    "    def mul(a, b):\n",
    "        return a * b\n",
    "    \n",
    "    def div(a, b):\n",
    "        return a / b\n",
    "\n",
    "    match operacao:\n",
    "        case \"+\":\n",
    "            return soma\n",
    "        case \"-\":\n",
    "            return sub\n",
    "        case \"*\":\n",
    "            return mul\n",
    "        case \"/\":\n",
    "            return div\n",
    "        \n",
    "calculadora(\"+\")(2, 2)\n",
    "calculadora(\"-\")(2, 2)\n",
    "calculadora(\"*\")(2, 2)\n",
    "calculadora(\"/\")(2, 2)\n"
   ]
  },
  {
   "cell_type": "code",
   "execution_count": null,
   "metadata": {},
   "outputs": [],
   "source": [
    "def meu_decorador(funcao):\n",
    "    def envelope():\n",
    "        print(\"faz algo antes de executar\")\n",
    "        funcao()\n",
    "        print(\"faz algo depois de executar\")\n",
    "    \n",
    "    return envelope\n",
    "\n",
    "@meu_decorador\n",
    "def ola_mundo():\n",
    "    print(f\"Olá mundo!\")\n",
    "\n",
    "ola_mundo()"
   ]
  },
  {
   "cell_type": "markdown",
   "metadata": {},
   "source": [
    "#### Funções de decoração com argumentos\n",
    "Podemos usar *args e **kwargs na função interna, com isso ela aceitará um número arbritrário de argumentos posicionais e de palavras-chave."
   ]
  },
  {
   "cell_type": "code",
   "execution_count": null,
   "metadata": {},
   "outputs": [],
   "source": [
    "def meu_decorador(funcao):\n",
    "    def envelope(*args, **kwargs):\n",
    "        print(\"faz algo antes de executar\")\n",
    "        funcao(*args, **kwargs)\n",
    "        print(\"faz algo depois de executar\")\n",
    "    \n",
    "    return envelope\n",
    "\n",
    "@meu_decorador\n",
    "def ola_mundo(nome):\n",
    "    print(f\"Olá mundo {nome}!\")\n",
    "\n",
    "ola_mundo(\"João\")"
   ]
  },
  {
   "cell_type": "markdown",
   "metadata": {},
   "source": [
    "#### Retornando valores de funções decoradas\n",
    "O decorador pode decidir se retorna o valor da função decorada ou não. Para que o valor seja retornado a função de envelope deve retornar o valor da função decorada."
   ]
  },
  {
   "cell_type": "code",
   "execution_count": null,
   "metadata": {},
   "outputs": [],
   "source": [
    "def meu_decorador(funcao):\n",
    "    def envelope(*args, **kwargs):\n",
    "        print(\"faz algo antes de executar\")\n",
    "        resultado = funcao(*args, **kwargs)\n",
    "        print(\"faz algo depois de executar\")\n",
    "        return resultado\n",
    "    \n",
    "    return envelope\n",
    "\n",
    "@meu_decorador\n",
    "def ola_mundo(nome):\n",
    "    print(f\"Olá mundo {nome}!\")\n",
    "    return nome.upper()\n",
    "\n",
    "resultado = ola_mundo(\"João\")\n",
    "print(resultado)"
   ]
  },
  {
   "cell_type": "markdown",
   "metadata": {},
   "source": [
    "#### Instrospecção\n",
    "Instrospecção é a capacidade de um objeto saber sobre seus próprios atributos em tempo de execução."
   ]
  },
  {
   "cell_type": "code",
   "execution_count": null,
   "metadata": {},
   "outputs": [],
   "source": [
    "import functools\n",
    "\n",
    "def meu_decorador(funcao):\n",
    "    @functools.wraps(funcao)\n",
    "    def envelope(*args, **kwargs):\n",
    "        print(\"faz algo antes de executar\")\n",
    "        resultado = funcao(*args, **kwargs)\n",
    "        print(\"faz algo depois de executar\")\n",
    "        return resultado\n",
    "    \n",
    "    return envelope\n",
    "\n",
    "@meu_decorador\n",
    "def ola_mundo(nome):\n",
    "    print(f\"Olá mundo {nome}!\")\n",
    "    return nome.upper()\n",
    "\n",
    "print(ola_mundo.__name__)"
   ]
  },
  {
   "cell_type": "markdown",
   "metadata": {},
   "source": [
    "#### Iteradores\n",
    "##### Introdução\n",
    "Em Python, um iterador é um objeto que contém um número contável de valores que podem iterados, o que significa que você pode percorrer todos os valores. O protocolo do iterador é uma maneira do Python fazer a iteração de um objeto, que consiste em dois métodos especiais \"__iter__()\" e \"__next__()\"\n",
    "\n",
    "##### Ler arquivos grandes\n",
    "- Economizar memória evitando carregar todas as linhas do arquivo.\n",
    "- Iterar linha a linha do arquivo"
   ]
  },
  {
   "cell_type": "code",
   "execution_count": null,
   "metadata": {},
   "outputs": [],
   "source": [
    "class MeuIterador:\n",
    "    def __init__(self, numeros: list[int]):\n",
    "        self.numeros = numeros\n",
    "        self.contador = 0\n",
    "\n",
    "    def __iter__(self):\n",
    "        return self\n",
    "\n",
    "    def __next__(self):\n",
    "        try:\n",
    "            numero = self.numeros[self.contador]\n",
    "            self.contador += 1\n",
    "            return numero * 2\n",
    "        \n",
    "        except IndexError:\n",
    "            raise StopIteration\n",
    "\n",
    "\n",
    "for i in MeuIterador(numeros=[38, 13, 11]):\n",
    "    print(i)"
   ]
  },
  {
   "cell_type": "markdown",
   "metadata": {},
   "source": [
    "#### Geradores\n",
    "##### O que são geradores?\n",
    "\n",
    "São tipos especiais de iteradores, ao contrário das listas ou outros iteráveis, não armazenam todos os seus valores na memória.\n",
    "\n",
    "São definidos usando funções regulares, mas, ao invés de retornar valores usando \"return\", utilizam \"yield\".\n",
    "\n",
    "##### Características de geradores\n",
    "- Uma vez que um item é gerado e consumido, ele é esquecido e não pode ser acessado novamente.\n",
    "- O estado interno de um gerador é mantido entre chamadas.\n",
    "- A execução de um gerador é pausada na declaração \"yield\" e retomada daí na próxima vez que ele for chamado.\n",
    "\n",
    "##### Recuperando dados de uma API\n",
    "- Solicitar dados por páginas (paginação).\n",
    "- Fornecer um produto por vez entre as chamadas.\n",
    "- Quando todos os produtos de uma página forem retornados, verificar se existem novas páginas.\n",
    "- Tratar o consumo da API como uma lista Python."
   ]
  },
  {
   "cell_type": "code",
   "execution_count": null,
   "metadata": {},
   "outputs": [],
   "source": [
    "def meu_gerador(numeros: list[int]):\n",
    "    for numero in numeros:\n",
    "        yield numero * 2\n",
    "\n",
    "\n",
    "for i in meu_gerador(numeros=[1, 2, 3]):\n",
    "    print(i)"
   ]
  }
 ],
 "metadata": {
  "kernelspec": {
   "display_name": "Python 3",
   "language": "python",
   "name": "python3"
  },
  "language_info": {
   "codemirror_mode": {
    "name": "ipython",
    "version": 3
   },
   "file_extension": ".py",
   "mimetype": "text/x-python",
   "name": "python",
   "nbconvert_exporter": "python",
   "pygments_lexer": "ipython3",
   "version": "3.11.2"
  }
 },
 "nbformat": 4,
 "nbformat_minor": 2
}
