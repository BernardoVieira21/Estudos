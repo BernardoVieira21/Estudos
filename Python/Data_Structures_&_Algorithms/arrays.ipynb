{
 "cells": [
  {
   "cell_type": "markdown",
   "metadata": {},
   "source": [
    "## O que são Arrays?\n",
    "\n",
    "Um array é uma estrutura de dados que armazena múltiplos valores em uma única variável. Em Python, arrays não são suportados nativamente como em outras linguagens.\n",
    "\n",
    "Para trabalhar com arrays de forma mais eficiente, especialmente quando todos os elementos são do mesmo tipo, podemos usar a biblioteca `array`:"
   ]
  },
  {
   "cell_type": "code",
   "execution_count": null,
   "metadata": {},
   "outputs": [],
   "source": [
    "import array as arr\n",
    "\n",
    "# Criando um array de inteiros\n",
    "a = arr.array(\"i\", [1, 2, 3])\n",
    "\n",
    "# Acessando elementos do array\n",
    "print(a[0])  # Saída: 1\n",
    "\n",
    "# Adicionando elementos ao array\n",
    "a.append(4)\n",
    "print(a)  # Saída: array('i', [1, 2, 3, 4])\n",
    "\n",
    "# Removendo elementos do array\n",
    "a.pop(1)\n",
    "print(a)  # Saída: array('i', [1, 3, 4])\n",
    "\n",
    "# Criando um array de caracteres\n",
    "a = arr.array(\"u\", \"abc\")\n",
    "print(a)\n",
    "\n",
    "# Adicionando uma string ao array (caracteres individuais)\n",
    "a.fromunicode(\"def\")\n",
    "print(a)  # Saída: array('u', 'abcdef')"
   ]
  },
  {
   "cell_type": "markdown",
   "metadata": {},
   "source": [
    "## Diferenças entre Listas e Arrays\n",
    "- Listas: Podem conter elementos de diferentes tipos e são mais flexíveis.\n",
    "- Arrays: Todos os elementos devem ser do mesmo tipo, oque pode ser mais eficiente em termos de memória e desempenho"
   ]
  }
 ],
 "metadata": {
  "kernelspec": {
   "display_name": "Python 3",
   "language": "python",
   "name": "python3"
  },
  "language_info": {
   "codemirror_mode": {
    "name": "ipython",
    "version": 3
   },
   "file_extension": ".py",
   "mimetype": "text/x-python",
   "name": "python",
   "nbconvert_exporter": "python",
   "pygments_lexer": "ipython3",
   "version": "3.11.2"
  }
 },
 "nbformat": 4,
 "nbformat_minor": 2
}
