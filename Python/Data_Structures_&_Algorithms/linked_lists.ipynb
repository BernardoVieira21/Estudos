{
 "cells": [
  {
   "cell_type": "markdown",
   "metadata": {},
   "source": [
    "## O que é uma Linked List?\n",
    "Uma Linked List é uma estrutura de dados linear, semelhante a um array, mas com uma diferença fundamental:\n",
    "\n",
    "Os elementos (chamados de nós) não são armazenados em locais contíguos na memória. Cada nó contém dois componentes principais:\n",
    "1. Dados: O valor armazenado no nó.\n",
    "2. Referência: Um ponteiro ou referência para o próximo nó na sequência.\n",
    "\n",
    "## Estrutura de uma Linked List\n",
    "Uma Linked List é composta por uma série de nós, onde cada nó aponta para o próximo nó na lista. O primeiro nó é chamado de cabeça (head), e o último nó aponta para `None`, Indicando o fim da lista.\n",
    "\n",
    "## Implementação de uma Linked List em Python\n",
    "Para implementar uma Linked List em Python, geralmente usamos classes. Vamos criar duas classes: uma para o nó (`Node`) e outra para a Linked List (`LinkedList`)."
   ]
  },
  {
   "cell_type": "markdown",
   "metadata": {},
   "source": [
    "## Classe Node\n",
    "A classe `Node` representa um único nó na Linked List."
   ]
  },
  {
   "cell_type": "code",
   "execution_count": null,
   "metadata": {},
   "outputs": [],
   "source": [
    "class Node:\n",
    "    def __init__(self, data) -> None:\n",
    "        self.data = data # Dado armazenado no nó\n",
    "        self.next = None # Referência para o próximo nó"
   ]
  },
  {
   "cell_type": "markdown",
   "metadata": {},
   "source": [
    "## Classe LinkedList\n",
    "A classe `LinkedList` gerencia a sequência de nós."
   ]
  },
  {
   "cell_type": "code",
   "execution_count": null,
   "metadata": {},
   "outputs": [],
   "source": [
    "class LinkedList:\n",
    "    def __init__(self) -> None:\n",
    "        self.head = None # Inicialmente, a lista está vazia\n",
    "\n",
    "    # Método para dicionar um nó no início da lista\n",
    "    def insert_at_beginning(self, data):\n",
    "        new_node = Node(data)\n",
    "        new_node.next = self.head\n",
    "        self.head = new_node\n",
    "\n",
    "    # Método para adicionar um nó no final da lista\n",
    "    def insert_at_end(self, data):\n",
    "        new_node = Node(data)\n",
    "        if self.head is None:\n",
    "            self.head = new_node\n",
    "            return\n",
    "        \n",
    "        last = self.head\n",
    "        while last.next:\n",
    "            last = last.next\n",
    "        last.next = new_node\n",
    "    \n",
    "    # Método para imprimir a lista\n",
    "    def print_list(self):\n",
    "        current = self.head\n",
    "        while current:\n",
    "            print(current.data, end=\" -> \")\n",
    "            current = current.next\n",
    "        print(\"None\")"
   ]
  }
 ],
 "metadata": {
  "language_info": {
   "name": "python"
  }
 },
 "nbformat": 4,
 "nbformat_minor": 2
}
